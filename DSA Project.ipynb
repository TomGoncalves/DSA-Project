{
 "cells": [
  {
   "cell_type": "code",
   "execution_count": null,
   "metadata": {},
   "outputs": [],
   "source": [
    "from IPython.display import Image\n",
    "\n",
    "import warnings\n",
    "warnings.filterwarnings('ignore')\n",
    "warnings.filterwarnings(action='ignore',category=DeprecationWarning)\n",
    "warnings.filterwarnings(action='ignore',category=FutureWarning)\n",
    "warnings.filterwarnings(action='ignore',category=DeprecationWarning)\n",
    "from sklearn.exceptions import DataConversionWarning\n",
    "warnings.filterwarnings(action='ignore', category=DataConversionWarning)\n",
    "import os\n",
    "os.environ[\"PATH\"] += os.pathsep + 'C:/Program Files (x86)/Graphviz2.38/bin/'\n",
    "\n",
    "import numpy as np\n",
    "from numpy import random\n",
    "import pandas as pd\n",
    "from pandas.plotting import register_matplotlib_converters\n",
    "pd.set_option('display.max_rows', 100)\n",
    "pd.set_option('display.max_columns', 100)\n",
    "pd.set_option('display.width', 125)\n",
    "pd.options.mode.chained_assignment = None\n",
    "\n",
    "import statsmodels.api as sm\n",
    "from statsmodels.formula.api import ols\n",
    "from scipy import stats\n",
    "from math import sqrt\n",
    "\n",
    "import matplotlib.pyplot as plt\n",
    "import matplotlib.image as mpimg\n",
    "import matplotlib.patches as mpatches\n",
    "register_matplotlib_converters()\n",
    "import seaborn as sns\n",
    "sns.set_style('darkgrid')\n",
    "\n",
    "from sklearn import tree\n",
    "from sklearn.ensemble import RandomForestRegressor\n",
    "from sklearn.feature_selection import SelectFromModel, SelectKBest, f_regression\n",
    "from sklearn.metrics import make_scorer, mean_squared_error, r2_score, mean_absolute_error\n",
    "from sklearn.neural_network import MLPRegressor\n",
    "from sklearn.model_selection import train_test_split, RandomizedSearchCV, GridSearchCV, KFold, RepeatedKFold\n",
    "from sklearn.svm import SVR\n",
    "from sklearn.preprocessing import MinMaxScaler, StandardScaler, Normalizer, RobustScaler, QuantileTransformer\n",
    "from sklearn.tree import DecisionTreeRegressor\n",
    "from sklearn.tree import export_graphviz\n",
    "from sklearn.pipeline import Pipeline\n",
    "\n",
    "from keras import layers\n",
    "from keras import optimizers\n",
    "from keras import backend as K\n",
    "from keras.callbacks import ModelCheckpoint\n",
    "from keras.constraints import maxnorm\n",
    "from keras.layers import Dense, Dropout, Activation, Flatten, Input\n",
    "from keras.layers.normalization import BatchNormalization\n",
    "from keras.models import Sequential, Model\n",
    "from keras.optimizers import SGD\n",
    "from keras.utils import plot_model\n",
    "from keras.wrappers.scikit_learn import KerasRegressor\n",
    "\n",
    "import pydot\n",
    "import researchpy as rp"
   ]
  },
  {
   "cell_type": "code",
   "execution_count": null,
   "metadata": {},
   "outputs": [],
   "source": [
    "os.chdir(\"C:/Users/Tom/Documents/Course/Semester 3/Project/Data Sets/\")"
   ]
  },
  {
   "cell_type": "code",
   "execution_count": null,
   "metadata": {},
   "outputs": [],
   "source": [
    "#Importing the Indoor Air Quality sensor data\n",
    "IAQ_LR = pd.read_csv(\"IAQ_livingroom.csv\", parse_dates=['Date and Time'], index_col='Date and Time', dayfirst=True)\n",
    "IAQ_KR = pd.read_csv(\"IAQ_kitchen.csv\", parse_dates=['Date and Time'], index_col='Date and Time', dayfirst=True)\n",
    "IAQ_BR = pd.read_csv(\"IAQ_bedroom.csv\", parse_dates=['Date and Time'], index_col='Date and Time', dayfirst=True)\n",
    "\n",
    "#Not usinc the dataset below, importing to show a time series plot on why this data won't be used\n",
    "IAQ_WC = pd.read_csv(\"IAQ_bathroom.csv\", parse_dates=['Date and Time'], index_col='Date and Time', dayfirst=True)"
   ]
  },
  {
   "cell_type": "code",
   "execution_count": null,
   "metadata": {},
   "outputs": [],
   "source": [
    "#Creating datasets to hold just the data for when devices were together for calibration purposes\n",
    "Cal_LR = IAQ_LR[IAQ_LR[\"Calibration\"] == 1].drop([\"Calibration\"], axis=1)\n",
    "Cal_KR = IAQ_KR[IAQ_KR[\"Calibration\"] == 1].drop([\"Calibration\"], axis=1)\n",
    "Cal_BR = IAQ_BR[IAQ_BR[\"Calibration\"] == 1].drop([\"Calibration\"], axis=1)\n",
    "Cal_WC = IAQ_WC[IAQ_WC[\"Calibration\"] == 1].drop([\"Calibration\"], axis=1)\n",
    "\n",
    "#Removing the calibration observations from our sensor data\n",
    "IAQ_LR = IAQ_LR[IAQ_LR[\"Calibration\"] == 0].drop([\"Calibration\"], axis=1)\n",
    "IAQ_KR = IAQ_KR[IAQ_KR[\"Calibration\"] == 0].drop([\"Calibration\"], axis=1)\n",
    "IAQ_BR = IAQ_BR[IAQ_BR[\"Calibration\"] == 0].drop([\"Calibration\"], axis=1)\n",
    "IAQ_WC = IAQ_WC[IAQ_WC[\"Calibration\"] == 0].drop([\"Calibration\"], axis=1)\n"
   ]
  },
  {
   "cell_type": "code",
   "execution_count": null,
   "metadata": {},
   "outputs": [],
   "source": [
    "#Bringing in the Occupant Activity. \n",
    "activity_LR = pd.read_csv(\"activity_livingroom.csv\", parse_dates=['Date and Time'], index_col='Date and Time', dayfirst=True)\n",
    "activity_KR = pd.read_csv(\"activity_kitchen.csv\", parse_dates=['Date and Time'], index_col='Date and Time', dayfirst=True)\n",
    "activity_BR = pd.read_csv(\"activity_bedroom.csv\", parse_dates=['Date and Time'], index_col='Date and Time', dayfirst=True)\n",
    "\n",
    "#Since we measured the bathroom data, we're looking if showering, which was measured only in House 2, has any impact on PM2.5\n",
    "shower = pd.read_csv(\"activity_bathroom.csv\", parse_dates=['Date and Time'], index_col='Date and Time', dayfirst=True)\n"
   ]
  },
  {
   "cell_type": "code",
   "execution_count": null,
   "metadata": {
    "scrolled": false
   },
   "outputs": [],
   "source": [
    "display(activity_LR.describe())\n",
    "display(activity_KR.describe())\n",
    "display(activity_BR.describe())"
   ]
  },
  {
   "cell_type": "code",
   "execution_count": null,
   "metadata": {},
   "outputs": [],
   "source": [
    "#Joining all activities in the same dataset as they have unique names such as \"LR_MaxOccupancy\", \"BR_MaxOccupancy\" and so on.\n",
    "activity = pd.merge(activity_LR, activity_KR, left_index=True, right_index=True).merge(\n",
    "    activity_BR, left_index=True, right_index=True).merge(shower, left_index=True, right_index=True)\n",
    "\n",
    "#activity.to_csv(r'all_activity.csv')\n"
   ]
  },
  {
   "cell_type": "code",
   "execution_count": null,
   "metadata": {},
   "outputs": [],
   "source": [
    "#Renaming the columns to include LR, KR and BR tags where appropriate\n",
    "\n",
    "activity.columns = activity.columns.str.replace(\"_x\", \"_LR\").str.replace(\"_y\", \"_KR\")\n",
    "\n",
    "#We included Window_KR:'Window_BR' since Kitchen had no Window feature, so when we replaced _y with _KR, it got the 2nd entry\n",
    "#of \"Window\", which was the bedroom Window as \"Window_KR\"\n",
    "\n",
    "activity.rename(columns={'MaxOccupancy':'MaxOccupancy_BR',\n",
    "                          'Door':'Door_BR',\n",
    "                          'Curtains':'Curtains_BR',\n",
    "                          'Heating':'Heating_BR',\n",
    "                          'Vacuuming':'Vacuuming_BR',\n",
    "                          'Mopping':'Mopping_BR',\n",
    "                          'Window_KR':'Window_BR'}, inplace=True)"
   ]
  },
  {
   "cell_type": "code",
   "execution_count": null,
   "metadata": {},
   "outputs": [],
   "source": [
    "#To consider time as a feature in our model, we've created a feature storing all 24 hours and one for Time of day\n",
    "\n",
    "activity['Hour'] = activity.index.strftime('%H').astype(int)\n",
    "activity[\"timeOfDay\"]=pd.cut(activity.index.hour, [-1, 5, 11, 17, 24], labels=['Night', \"Morning\", 'Afternoon', 'Evening'])\n",
    "activity[\"timeOfDay\"] = activity[\"timeOfDay\"].cat.codes\n",
    "\n",
    "#activity.to_csv(r'treated datasets/all_activity.csv')"
   ]
  },
  {
   "cell_type": "code",
   "execution_count": null,
   "metadata": {
    "scrolled": false
   },
   "outputs": [],
   "source": [
    "display(activity.info())\n",
    "display(activity.describe())"
   ]
  },
  {
   "cell_type": "markdown",
   "metadata": {},
   "source": [
    "# Calibration\n",
    "\n",
    "In this section we'll analyse the calibration plots for House 1 and 2 for all sensor features. If they're highly correlated, we'll bring their into agreement through their difference in means. If not, they'll be excluded from the model."
   ]
  },
  {
   "cell_type": "code",
   "execution_count": null,
   "metadata": {},
   "outputs": [],
   "source": [
    "IAQ_KR['adj_PM2.5'] = 0\n",
    "IAQ_KR['adj_CO2'] = 0\n",
    "IAQ_KR['adj_TVOC'] = 0\n",
    "IAQ_KR['adj_Temp'] = 0\n",
    "IAQ_KR['adj_RH'] = 0\n",
    "IAQ_KR['adj_AirPres'] = 0\n",
    "\n",
    "IAQ_LR['adj_PM2.5'] = 0\n",
    "IAQ_LR['adj_CO2'] = 0\n",
    "IAQ_LR['adj_TVOC'] = 0\n",
    "IAQ_LR['adj_Temp'] = 0\n",
    "IAQ_LR['adj_RH'] = 0\n",
    "IAQ_LR['adj_AirPres'] = 0\n",
    "\n",
    "IAQ_BR['adj_PM2.5'] = 0\n",
    "IAQ_BR['adj_CO2'] = 0\n",
    "IAQ_BR['adj_TVOC'] = 0\n",
    "IAQ_BR['adj_Temp'] = 0\n",
    "IAQ_BR['adj_RH'] = 0\n",
    "IAQ_BR['adj_AirPres'] = 0"
   ]
  },
  {
   "cell_type": "code",
   "execution_count": null,
   "metadata": {},
   "outputs": [],
   "source": [
    "##### Calibration and Activity plot for House 1 - Reason for why the Bathroom data was excluded\n",
    "\n",
    "plt.figure(figsize=(15,5))\n",
    "plt.plot(Cal_KR[\"PM2.5\"][Cal_KR[\"House\"] == 1], label='Kitchen')\n",
    "plt.plot(Cal_LR[\"PM2.5\"][Cal_LR[\"House\"] == 1], label='Living Room')\n",
    "plt.plot(Cal_BR[\"PM2.5\"][Cal_BR[\"House\"] == 1], label='Bedroom')\n",
    "plt.plot(Cal_WC[\"PM2.5\"][Cal_WC[\"House\"] == 1], label='Bathroom')\n",
    "plt.xlabel('Hours', size=12)\n",
    "plt.ylabel('PM2.5', size=12)\n",
    "plt.legend(loc=1, prop={'size': 12})\n",
    "plt.title(\"PM2.5 Calibration - House 1\")\n",
    "plt.show()\n",
    "\n",
    "plt.figure(figsize=(15,5))\n",
    "plt.plot(IAQ_KR[\"PM2.5\"][IAQ_KR[\"House\"] == 1], label='Kitchen')\n",
    "plt.plot(IAQ_LR[\"PM2.5\"][IAQ_LR[\"House\"] == 1], label='Living Room')\n",
    "plt.plot(IAQ_BR[\"PM2.5\"][IAQ_BR[\"House\"] == 1], label='Bedroom')\n",
    "plt.plot(IAQ_WC[\"PM2.5\"][IAQ_WC[\"House\"] == 1], label='Bathroom')\n",
    "plt.ylim(0,99)\n",
    "plt.xlabel('Days', size=12)\n",
    "plt.ylabel('PM2.5', size=12)\n",
    "plt.legend(loc=1, prop={'size': 12})\n",
    "plt.title(\"PM2.5 Activity - House 1\")\n",
    "plt.show()"
   ]
  },
  {
   "cell_type": "code",
   "execution_count": null,
   "metadata": {
    "scrolled": false
   },
   "outputs": [],
   "source": [
    "###############################################################################\n",
    "################################## P M 2 . 5 ##################################\n",
    "###############################################################################\n",
    "################################ H O U S E   1 ################################\n",
    "###############################################################################\n",
    "\n",
    "plt.figure(figsize=(15,5))\n",
    "plt.plot(Cal_KR[\"PM2.5\"][Cal_KR[\"House\"] == 1], label='Kitchen')\n",
    "plt.plot(Cal_LR[\"PM2.5\"][Cal_LR[\"House\"] == 1], label='Living Room')\n",
    "plt.plot(Cal_BR[\"PM2.5\"][Cal_BR[\"House\"] == 1], label='Bedroom')\n",
    "plt.xlabel('Hours', size=15, fontweight='bold')\n",
    "plt.ylabel('PM2.5', size=15, fontweight='bold')\n",
    "plt.ylim(top=13)\n",
    "plt.legend(loc=1, prop={'size': 15})\n",
    "plt.title(\"PM2.5 Calibration - House 1\", size=18)\n",
    "plt.show()\n",
    "\n",
    "plt.figure(figsize=(15,5))\n",
    "plt.plot(IAQ_KR[\"PM2.5\"][IAQ_KR[\"House\"] == 1], label='Kitchen')\n",
    "plt.plot(IAQ_LR[\"PM2.5\"][IAQ_LR[\"House\"] == 1], label='Living Room')\n",
    "plt.plot(IAQ_BR[\"PM2.5\"][IAQ_BR[\"House\"] == 1], label='Bedroom')\n",
    "plt.xlabel('Days', size=12)\n",
    "plt.ylabel('PM2.5', size=12)\n",
    "plt.legend(loc=1, prop={'size': 15})\n",
    "plt.title(\"PM2.5 Activity - House 1\")\n",
    "plt.show()\n",
    "\n",
    "KR1_Cal_PM25_mean = Cal_KR[\"PM2.5\"][Cal_KR[\"House\"]==1].mean()\n",
    "LR1_Cal_PM25_mean = Cal_LR[\"PM2.5\"][Cal_LR[\"House\"]==1].mean()\n",
    "BR1_Cal_PM25_mean = Cal_BR[\"PM2.5\"][Cal_BR[\"House\"]==1].mean()\n",
    "\n",
    "H1_Cal_PM25_mean = (KR1_Cal_PM25_mean + LR1_Cal_PM25_mean + BR1_Cal_PM25_mean)/3\n",
    "\n",
    "KR1_PM25_adjustment = KR1_Cal_PM25_mean - H1_Cal_PM25_mean\n",
    "LR1_PM25_adjustment = LR1_Cal_PM25_mean - H1_Cal_PM25_mean\n",
    "BR1_PM25_adjustment = BR1_Cal_PM25_mean - H1_Cal_PM25_mean\n",
    "\n",
    "IAQ_KR[\"adj_PM2.5\"][IAQ_KR[\"House\"]==1] = IAQ_KR[\"PM2.5\"][IAQ_KR[\"House\"]==1] - KR1_PM25_adjustment\n",
    "IAQ_LR[\"adj_PM2.5\"][IAQ_LR[\"House\"]==1] = IAQ_LR[\"PM2.5\"][IAQ_LR[\"House\"]==1] - LR1_PM25_adjustment\n",
    "IAQ_BR[\"adj_PM2.5\"][IAQ_BR[\"House\"]==1] = IAQ_BR[\"PM2.5\"][IAQ_BR[\"House\"]==1] - BR1_PM25_adjustment\n",
    "\n",
    "plt.figure(figsize=(15,5))\n",
    "plt.plot(IAQ_KR[\"adj_PM2.5\"][IAQ_KR[\"House\"] == 1], label='Kitchen')\n",
    "plt.plot(IAQ_LR[\"adj_PM2.5\"][IAQ_LR[\"House\"] == 1], label='Living Room')\n",
    "plt.plot(IAQ_BR[\"adj_PM2.5\"][IAQ_BR[\"House\"] == 1], label='Bedroom')\n",
    "plt.xlabel('Days', size=15, fontweight='bold')\n",
    "plt.ylabel('PM2.5', size=15, fontweight='bold')\n",
    "plt.legend(loc=1, prop={'size': 12})\n",
    "plt.title(\"Adjusted PM2.5 Activity - House 1\", size=18)\n",
    "plt.show();"
   ]
  },
  {
   "cell_type": "code",
   "execution_count": null,
   "metadata": {
    "scrolled": false
   },
   "outputs": [],
   "source": [
    "###############################################################################\n",
    "################################## P M 2 . 5 ##################################\n",
    "###############################################################################\n",
    "################################ H O U S E   2 ################################\n",
    "###############################################################################\n",
    "\n",
    "plt.figure(figsize=(15,5))\n",
    "plt.plot(Cal_KR[\"PM2.5\"][Cal_KR[\"House\"] == 2], label='Kitchen')\n",
    "plt.plot(Cal_LR[\"PM2.5\"][Cal_LR[\"House\"] == 2], label='Living Room')\n",
    "plt.plot(Cal_BR[\"PM2.5\"][Cal_BR[\"House\"] == 2], label='Bedroom')\n",
    "plt.xlabel('Hours', size=12)\n",
    "plt.ylabel('PM2.5', size=12)\n",
    "plt.legend(loc=1, prop={'size': 12})\n",
    "plt.title(\"PM2.5 Calibration - House 2\")\n",
    "plt.show()\n",
    "\n",
    "plt.figure(figsize=(15,5))\n",
    "plt.plot(IAQ_KR[\"PM2.5\"][IAQ_KR[\"House\"] == 2], label='Kitchen')\n",
    "plt.plot(IAQ_LR[\"PM2.5\"][IAQ_LR[\"House\"] == 2], label='Living Room')\n",
    "plt.plot(IAQ_BR[\"PM2.5\"][IAQ_BR[\"House\"] == 2], label='Bedroom')\n",
    "plt.xlabel('Days', size=12)\n",
    "plt.ylabel('PM2.5', size=12)\n",
    "plt.legend(loc=1, prop={'size': 12})\n",
    "plt.title(\"PM2.5 Activity - House 2\")\n",
    "plt.show()\n",
    "\n",
    "KR2_Cal_PM25_mean = Cal_KR[\"PM2.5\"][Cal_KR[\"House\"]==2].mean()\n",
    "LR2_Cal_PM25_mean = Cal_LR[\"PM2.5\"][Cal_LR[\"House\"]==2].mean()\n",
    "BR2_Cal_PM25_mean = Cal_BR[\"PM2.5\"][Cal_BR[\"House\"]==2].mean()\n",
    "\n",
    "H2_Cal_PM25_mean = (KR2_Cal_PM25_mean + LR2_Cal_PM25_mean + BR2_Cal_PM25_mean)/3\n",
    "\n",
    "KR2_PM25_adjustment = KR2_Cal_PM25_mean - H2_Cal_PM25_mean\n",
    "LR2_PM25_adjustment = LR2_Cal_PM25_mean - H2_Cal_PM25_mean\n",
    "BR2_PM25_adjustment = BR2_Cal_PM25_mean - H2_Cal_PM25_mean\n",
    "\n",
    "IAQ_KR[\"adj_PM2.5\"][IAQ_KR[\"House\"]==2] = IAQ_KR[\"PM2.5\"][IAQ_KR[\"House\"]==2] - KR1_PM25_adjustment\n",
    "IAQ_LR[\"adj_PM2.5\"][IAQ_LR[\"House\"]==2] = IAQ_LR[\"PM2.5\"][IAQ_LR[\"House\"]==2] - LR1_PM25_adjustment\n",
    "IAQ_BR[\"adj_PM2.5\"][IAQ_BR[\"House\"]==2] = IAQ_BR[\"PM2.5\"][IAQ_BR[\"House\"]==2] - BR1_PM25_adjustment\n",
    "\n",
    "plt.figure(figsize=(15,5))\n",
    "plt.plot(IAQ_KR[\"adj_PM2.5\"][IAQ_KR[\"House\"] == 2], label='Kitchen')\n",
    "plt.plot(IAQ_LR[\"adj_PM2.5\"][IAQ_LR[\"House\"] == 2], label='Living Room')\n",
    "plt.plot(IAQ_BR[\"adj_PM2.5\"][IAQ_BR[\"House\"] == 2], label='Bedroom')\n",
    "plt.xlabel('Days', size=15, fontweight='bold')\n",
    "plt.ylabel('PM2.5', size=15, fontweight='bold')\n",
    "plt.legend(loc=1, prop={'size': 12})\n",
    "plt.title(\"Adjusted PM2.5 Activity - House 2\", size=18)\n",
    "plt.show();"
   ]
  },
  {
   "cell_type": "code",
   "execution_count": null,
   "metadata": {
    "scrolled": false
   },
   "outputs": [],
   "source": [
    "###############################################################################\n",
    "#################################### C O 2 ####################################\n",
    "###############################################################################\n",
    "################################ H O U S E   1 ################################\n",
    "###############################################################################\n",
    "\n",
    "plt.figure(figsize=(15,5))\n",
    "plt.plot(Cal_KR[\"CO2\"][Cal_KR[\"House\"] == 1], label='Kitchen')\n",
    "plt.plot(Cal_LR[\"CO2\"][Cal_LR[\"House\"] == 1], label='Living Room')\n",
    "plt.plot(Cal_BR[\"CO2\"][Cal_BR[\"House\"] == 1], label='Bedroom')\n",
    "plt.xlabel('Hours', size=12)\n",
    "plt.ylabel('CO2', size=12)\n",
    "plt.legend(loc=1, prop={'size': 12})\n",
    "plt.title(\"CO2 Calibration - House 1\")\n",
    "plt.show()\n",
    "\n",
    "plt.figure(figsize=(15,5))\n",
    "plt.plot(IAQ_KR[\"CO2\"][IAQ_KR[\"House\"] == 1], label='Kitchen')\n",
    "plt.plot(IAQ_LR[\"CO2\"][IAQ_LR[\"House\"] == 1], label='Living Room')\n",
    "plt.plot(IAQ_BR[\"CO2\"][IAQ_BR[\"House\"] == 1], label='Bedroom')\n",
    "plt.xlabel('Days', size=12)\n",
    "plt.ylabel('CO2', size=12)\n",
    "plt.legend(loc=1, prop={'size': 12})\n",
    "plt.title(\"CO2 Activity - House 1\")\n",
    "plt.show()\n",
    "\n",
    "KR1_Cal_CO2_mean = Cal_KR[\"CO2\"][Cal_KR[\"House\"]==1].mean()\n",
    "LR1_Cal_CO2_mean = Cal_LR[\"CO2\"][Cal_LR[\"House\"]==1].mean()\n",
    "BR1_Cal_CO2_mean = Cal_BR[\"CO2\"][Cal_BR[\"House\"]==1].mean()\n",
    "\n",
    "H1_Cal_CO2_mean = (KR1_Cal_CO2_mean + LR1_Cal_CO2_mean + BR1_Cal_CO2_mean)/3\n",
    "\n",
    "KR1_CO2_adjustment = KR1_Cal_CO2_mean - H1_Cal_CO2_mean\n",
    "LR1_CO2_adjustment = LR1_Cal_CO2_mean - H1_Cal_CO2_mean\n",
    "BR1_CO2_adjustment = BR1_Cal_CO2_mean - H1_Cal_CO2_mean\n",
    "\n",
    "IAQ_KR[\"adj_CO2\"][IAQ_KR[\"House\"]==1] = IAQ_KR[\"CO2\"][IAQ_KR[\"House\"]==1] - KR1_CO2_adjustment\n",
    "IAQ_LR[\"adj_CO2\"][IAQ_LR[\"House\"]==1] = IAQ_LR[\"CO2\"][IAQ_LR[\"House\"]==1] - LR1_CO2_adjustment\n",
    "IAQ_BR[\"adj_CO2\"][IAQ_BR[\"House\"]==1] = IAQ_BR[\"CO2\"][IAQ_BR[\"House\"]==1] - BR1_CO2_adjustment\n",
    "\n",
    "plt.figure(figsize=(15,5))\n",
    "plt.plot(IAQ_KR[\"adj_CO2\"][IAQ_KR[\"House\"] == 1], label='Kitchen')\n",
    "plt.plot(IAQ_LR[\"adj_CO2\"][IAQ_LR[\"House\"] == 1], label='Living Room')\n",
    "plt.plot(IAQ_BR[\"adj_CO2\"][IAQ_BR[\"House\"] == 1], label='Bedroom')\n",
    "plt.xlabel('Days', size=12)\n",
    "plt.ylabel('CO2', size=12)\n",
    "plt.legend(loc=1, prop={'size': 12})\n",
    "plt.title(\"Adjusted CO2 Activity - House 1\")\n",
    "plt.show();"
   ]
  },
  {
   "cell_type": "code",
   "execution_count": null,
   "metadata": {},
   "outputs": [],
   "source": [
    "###############################################################################\n",
    "#################################### C O 2 ####################################\n",
    "###############################################################################\n",
    "################################ H O U S E   2 ################################\n",
    "###############################################################################\n",
    "\n",
    "plt.figure(figsize=(15,5))\n",
    "plt.plot(Cal_KR[\"CO2\"][Cal_KR[\"House\"] == 2], label='Kitchen')\n",
    "plt.plot(Cal_LR[\"CO2\"][Cal_LR[\"House\"] == 2], label='Living Room')\n",
    "plt.plot(Cal_BR[\"CO2\"][Cal_BR[\"House\"] == 2], label='Bedroom')\n",
    "plt.xlabel('Hours', size=12)\n",
    "plt.ylabel('CO2', size=12)\n",
    "plt.legend(prop={'size': 12})\n",
    "plt.title(\"CO2 Calibration - House 2\")\n",
    "plt.show()\n",
    "\n",
    "plt.figure(figsize=(15,5))\n",
    "plt.plot(IAQ_KR[\"CO2\"][IAQ_KR[\"House\"] == 2], label='Kitchen')\n",
    "plt.plot(IAQ_LR[\"CO2\"][IAQ_LR[\"House\"] == 2], label='Living Room')\n",
    "plt.plot(IAQ_BR[\"CO2\"][IAQ_BR[\"House\"] == 2], label='Bedroom')\n",
    "plt.xlabel('Days', size=12)\n",
    "plt.ylabel('CO2', size=12)\n",
    "plt.legend(prop={'size': 12})\n",
    "plt.title(\"CO2 Activity - House 2\")\n",
    "plt.show()\n",
    "\n",
    "KR2_Cal_CO2_mean = Cal_KR[\"CO2\"][Cal_KR[\"House\"]==2].mean()\n",
    "LR2_Cal_CO2_mean = Cal_LR[\"CO2\"][Cal_LR[\"House\"]==2].mean()\n",
    "BR2_Cal_CO2_mean = Cal_BR[\"CO2\"][Cal_BR[\"House\"]==2].mean()\n",
    "\n",
    "H2_Cal_CO2_mean = (KR2_Cal_CO2_mean + LR2_Cal_CO2_mean + BR2_Cal_CO2_mean)/3\n",
    "\n",
    "KR2_CO2_adjustment = KR2_Cal_CO2_mean - H2_Cal_CO2_mean\n",
    "LR2_CO2_adjustment = LR2_Cal_CO2_mean - H2_Cal_CO2_mean\n",
    "BR2_CO2_adjustment = BR2_Cal_CO2_mean - H2_Cal_CO2_mean\n",
    "\n",
    "IAQ_KR[\"adj_CO2\"][IAQ_KR[\"House\"]==2] = IAQ_KR[\"CO2\"][IAQ_KR[\"House\"]==2] - KR1_CO2_adjustment\n",
    "IAQ_LR[\"adj_CO2\"][IAQ_LR[\"House\"]==2] = IAQ_LR[\"CO2\"][IAQ_LR[\"House\"]==2] - LR1_CO2_adjustment\n",
    "IAQ_BR[\"adj_CO2\"][IAQ_BR[\"House\"]==2] = IAQ_BR[\"CO2\"][IAQ_BR[\"House\"]==2] - BR1_CO2_adjustment\n",
    "\n",
    "plt.figure(figsize=(15,5))\n",
    "plt.plot(IAQ_KR[\"adj_CO2\"][IAQ_KR[\"House\"] == 2], label='Kitchen')\n",
    "plt.plot(IAQ_LR[\"adj_CO2\"][IAQ_LR[\"House\"] == 2], label='Living Room')\n",
    "plt.plot(IAQ_BR[\"adj_CO2\"][IAQ_BR[\"House\"] == 2], label='Bedroom')\n",
    "plt.xlabel('Days', size=12)\n",
    "plt.ylabel('CO2', size=12)\n",
    "plt.legend(prop={'size': 12})\n",
    "plt.title(\"Adjusted CO2 Activity - House 2\")\n",
    "plt.show();"
   ]
  },
  {
   "cell_type": "code",
   "execution_count": null,
   "metadata": {
    "scrolled": false
   },
   "outputs": [],
   "source": [
    "###############################################################################\n",
    "################################### T V O C ###################################\n",
    "###############################################################################\n",
    "################################ H O U S E   1 ################################\n",
    "###############################################################################\n",
    "\n",
    "plt.figure(figsize=(15,5))\n",
    "plt.plot(Cal_KR[\"TVOC\"][Cal_KR[\"House\"] == 1], label='Kitchen')\n",
    "plt.plot(Cal_LR[\"TVOC\"][Cal_LR[\"House\"] == 1], label='Living Room')\n",
    "plt.plot(Cal_BR[\"TVOC\"][Cal_BR[\"House\"] == 1], label='Bedroom')\n",
    "plt.xlabel('Hours', size=12)\n",
    "plt.ylabel('TVOC (Total Volatile Organic Compounds)', size=12)\n",
    "plt.legend(prop={'size': 12})\n",
    "plt.title(\"TVOC Calibration - House 1\")\n",
    "plt.show()\n",
    "\n",
    "plt.figure(figsize=(15,5))\n",
    "plt.plot(IAQ_KR[\"TVOC\"][IAQ_KR[\"House\"] == 1], label='Kitchen')\n",
    "plt.plot(IAQ_LR[\"TVOC\"][IAQ_LR[\"House\"] == 1], label='Living Room')\n",
    "plt.plot(IAQ_BR[\"TVOC\"][IAQ_BR[\"House\"] == 1], label='Bedroom')\n",
    "plt.xlabel('Days', size=12)\n",
    "plt.ylabel('TVOC (Total Volatile Organic Compounds)', size=12)\n",
    "plt.legend(prop={'size': 12})\n",
    "plt.title(\"TVOC Activity - House 1\")\n",
    "plt.show()\n",
    "\n",
    "\n",
    "KR1_Cal_TVOC_mean = Cal_KR[\"TVOC\"][Cal_KR[\"House\"]==1].mean()\n",
    "LR1_Cal_TVOC_mean = Cal_LR[\"TVOC\"][Cal_LR[\"House\"]==1].mean()\n",
    "BR1_Cal_TVOC_mean = Cal_BR[\"TVOC\"][Cal_BR[\"House\"]==1].mean()\n",
    "\n",
    "H1_Cal_TVOC_mean = (KR1_Cal_TVOC_mean + BR1_Cal_TVOC_mean)/2\n",
    "\n",
    "KR1_TVOC_adjustment = KR1_Cal_TVOC_mean - H1_Cal_TVOC_mean\n",
    "LR1_TVOC_adjustment = LR1_Cal_TVOC_mean - H1_Cal_TVOC_mean\n",
    "BR1_TVOC_adjustment = BR1_Cal_TVOC_mean - H1_Cal_TVOC_mean\n",
    "\n",
    "IAQ_KR[\"adj_TVOC\"] = IAQ_KR[\"TVOC\"][IAQ_KR[\"House\"]==1] - KR1_TVOC_adjustment\n",
    "IAQ_LR[\"adj_TVOC\"] = IAQ_LR[\"TVOC\"][IAQ_LR[\"House\"]==1] - LR1_TVOC_adjustment\n",
    "IAQ_BR[\"adj_TVOC\"] = IAQ_BR[\"TVOC\"][IAQ_BR[\"House\"]==1] - BR1_TVOC_adjustment\n",
    "\n",
    "plt.figure(figsize=(15,5))\n",
    "plt.plot(IAQ_KR[\"adj_TVOC\"][IAQ_KR[\"House\"] == 1], label='Kitchen')\n",
    "plt.plot(IAQ_LR[\"adj_TVOC\"][IAQ_LR[\"House\"] == 1], label='Living Room')\n",
    "plt.plot(IAQ_BR[\"adj_TVOC\"][IAQ_BR[\"House\"] == 1], label='Bedroom')\n",
    "plt.xlabel('Days', size=12)\n",
    "plt.ylabel('TVOC (Total Volatile Organic Compounds)', size=12)\n",
    "plt.legend(prop={'size': 12})\n",
    "plt.title(\"Adjusted TVOC Activity - House 1\")\n",
    "plt.show();"
   ]
  },
  {
   "cell_type": "code",
   "execution_count": null,
   "metadata": {},
   "outputs": [],
   "source": [
    "###############################################################################\n",
    "################################### T V O C ###################################\n",
    "###############################################################################\n",
    "################################ H O U S E   2 ################################\n",
    "###############################################################################\n",
    "\n",
    "plt.figure(figsize=(15,5))\n",
    "plt.plot(Cal_KR[\"TVOC\"][Cal_KR[\"House\"] == 2], label='Kitchen')\n",
    "plt.plot(Cal_LR[\"TVOC\"][Cal_LR[\"House\"] == 2], label='Living Room')\n",
    "plt.plot(Cal_BR[\"TVOC\"][Cal_BR[\"House\"] == 2], label='Bedroom')\n",
    "plt.xlabel('Hours', size=12)\n",
    "plt.ylabel('TVOC (Total Volatile Organic Compounds)', size=12)\n",
    "plt.legend(prop={'size': 12})\n",
    "plt.title(\"TVOC Calibration - House 2\")\n",
    "plt.show()\n",
    "\n",
    "plt.figure(figsize=(15,5))\n",
    "plt.plot(IAQ_KR[\"TVOC\"][IAQ_KR[\"House\"] == 2], label='Kitchen')\n",
    "plt.plot(IAQ_LR[\"TVOC\"][IAQ_LR[\"House\"] == 2], label='Living Room')\n",
    "plt.plot(IAQ_BR[\"TVOC\"][IAQ_BR[\"House\"] == 2], label='Bedroom')\n",
    "plt.xlabel('Days', size=12)\n",
    "plt.ylabel('TVOC (Total Volatile Organic Compounds)', size=12)\n",
    "plt.legend(prop={'size': 12})\n",
    "plt.title(\"TVOC Activity - House 2\")\n",
    "plt.show()\n",
    "\n",
    "KR2_Cal_TVOC_mean = Cal_KR[\"TVOC\"][Cal_KR[\"House\"]==2].mean()\n",
    "LR2_Cal_TVOC_mean = Cal_LR[\"TVOC\"][Cal_LR[\"House\"]==2].mean()\n",
    "BR2_Cal_TVOC_mean = Cal_BR[\"TVOC\"][Cal_BR[\"House\"]==2].mean()\n",
    "\n",
    "H2_Cal_TVOC_mean = (KR2_Cal_TVOC_mean + LR2_Cal_TVOC_mean + BR2_Cal_TVOC_mean)/3\n",
    "\n",
    "KR2_TVOC_adjustment = KR2_Cal_TVOC_mean - H2_Cal_TVOC_mean\n",
    "LR2_TVOC_adjustment = LR2_Cal_TVOC_mean - H2_Cal_TVOC_mean\n",
    "BR2_TVOC_adjustment = BR2_Cal_TVOC_mean - H2_Cal_TVOC_mean\n",
    "\n",
    "IAQ_KR[\"adj_TVOC\"][IAQ_KR[\"House\"]==2] = IAQ_KR[\"TVOC\"][IAQ_KR[\"House\"]==2] - KR2_TVOC_adjustment\n",
    "IAQ_LR[\"adj_TVOC\"][IAQ_LR[\"House\"]==2] = IAQ_LR[\"TVOC\"][IAQ_LR[\"House\"]==2] - LR2_TVOC_adjustment\n",
    "IAQ_BR[\"adj_TVOC\"][IAQ_BR[\"House\"]==2] = IAQ_BR[\"TVOC\"][IAQ_BR[\"House\"]==2] - BR2_TVOC_adjustment\n",
    "\n",
    "plt.figure(figsize=(15,5))\n",
    "plt.plot(IAQ_KR[\"adj_TVOC\"][IAQ_KR[\"House\"] == 2], label='Kitchen')\n",
    "plt.plot(IAQ_LR[\"adj_TVOC\"][IAQ_LR[\"House\"] == 2], label='Living Room')\n",
    "plt.plot(IAQ_BR[\"adj_TVOC\"][IAQ_BR[\"House\"] == 2], label='Bedroom')\n",
    "plt.xlabel('Days', size=12)\n",
    "plt.ylabel('TVOC (Total Volatile Organic Compounds)', size=12)\n",
    "plt.legend(prop={'size': 12})\n",
    "plt.title(\"Adjusted TVOC Activity - House 2\")\n",
    "plt.show();"
   ]
  },
  {
   "cell_type": "markdown",
   "metadata": {},
   "source": [
    "Due to how big the discrepancy is between the Living Room sensor and all the others during House 2's calibration period, applying the same formula we've been using before puts this value into the negative spectrum. As both houses have an open plan Kitchen and the kitchen and living room sensors show a high level of accordance, we'll use the calibration data from the Kitchen for the living room sensor, pending a better idea."
   ]
  },
  {
   "cell_type": "code",
   "execution_count": null,
   "metadata": {},
   "outputs": [],
   "source": [
    "###############################################################################\n",
    "####################### T V O C - A L T E R N A T I V E #######################\n",
    "###############################################################################\n",
    "################################ H O U S E   2 ################################\n",
    "###############################################################################\n",
    "\n",
    "#This is the line we've modified\n",
    "LR2_TVOC_adjustment = KR2_Cal_TVOC_mean - H2_Cal_TVOC_mean\n",
    "\n",
    "IAQ_LR[\"adj_TVOC\"][IAQ_LR[\"House\"]==2] = IAQ_LR[\"TVOC\"][IAQ_LR[\"House\"]==2] - LR2_TVOC_adjustment\n",
    "\n",
    "plt.figure(figsize=(15,5))\n",
    "plt.plot(IAQ_KR[\"adj_TVOC\"][IAQ_KR[\"House\"] == 2], label='Kitchen')\n",
    "plt.plot(IAQ_LR[\"adj_TVOC\"][IAQ_LR[\"House\"] == 2], label='Living Room')\n",
    "plt.plot(IAQ_BR[\"adj_TVOC\"][IAQ_BR[\"House\"] == 2], label='Bedroom')\n",
    "plt.xlabel('Days', size=12)\n",
    "plt.ylabel('TVOC (Total Volatile Organic Compounds)', size=12)\n",
    "plt.legend(prop={'size': 12})\n",
    "plt.title(\"Adjusted TVOC Activity - House 2\")\n",
    "plt.show();\n",
    "\n",
    "\n",
    "#We did the same for House 1 as like House 2, House 1's Kitchen is connected to the Living Room with only a half-way in between\n",
    "LR1_TVOC_adjustment = KR1_Cal_TVOC_mean - H1_Cal_TVOC_mean\n",
    "\n",
    "IAQ_LR[\"adj_TVOC\"][IAQ_LR[\"House\"]==1] = IAQ_LR[\"TVOC\"][IAQ_LR[\"House\"]==1] - LR1_TVOC_adjustment\n",
    "\n",
    "plt.figure(figsize=(15,5))\n",
    "plt.plot(IAQ_KR[\"adj_TVOC\"][IAQ_KR[\"House\"] == 1], label='Kitchen')\n",
    "plt.plot(IAQ_LR[\"adj_TVOC\"][IAQ_LR[\"House\"] == 1], label='Living Room')\n",
    "plt.plot(IAQ_BR[\"adj_TVOC\"][IAQ_BR[\"House\"] == 1], label='Bedroom')\n",
    "plt.xlabel('Days', size=12)\n",
    "plt.ylabel('TVOC (Total Volatile Organic Compounds)', size=12)\n",
    "plt.legend(prop={'size': 12})\n",
    "plt.title(\"Adjusted TVOC Activity - House 1\")\n",
    "plt.show();"
   ]
  },
  {
   "cell_type": "code",
   "execution_count": null,
   "metadata": {
    "scrolled": false
   },
   "outputs": [],
   "source": [
    "###############################################################################\n",
    "############################ T E M P E R A T U R E ############################\n",
    "###############################################################################\n",
    "################################ H O U S E   1 ################################\n",
    "###############################################################################\n",
    "\n",
    "plt.figure(figsize=(15,5))\n",
    "plt.plot(Cal_KR[\"Temp\"][Cal_KR[\"House\"] == 1], label='Kitchen')\n",
    "plt.plot(Cal_LR[\"Temp\"][Cal_LR[\"House\"] == 1], label='Living Room')\n",
    "plt.plot(Cal_BR[\"Temp\"][Cal_BR[\"House\"] == 1], label='Bedroom')\n",
    "plt.xlabel('Hours', size=12)\n",
    "plt.ylabel('Temperature', size=12)\n",
    "plt.legend(prop={'size': 12})\n",
    "plt.title(\"Temp Calibration - House 1\")\n",
    "plt.show()\n",
    "\n",
    "plt.figure(figsize=(15,5))\n",
    "plt.plot(IAQ_KR[\"Temp\"][IAQ_KR[\"House\"] == 1], label='Kitchen')\n",
    "plt.plot(IAQ_LR[\"Temp\"][IAQ_LR[\"House\"] == 1], label='Living Room')\n",
    "plt.plot(IAQ_BR[\"Temp\"][IAQ_BR[\"House\"] == 1], label='Bedroom')\n",
    "plt.xlabel('Days', size=12)\n",
    "plt.ylabel('Temperature', size=12)\n",
    "plt.legend(prop={'size': 12})\n",
    "plt.title(\"Temp Activity - House 1\")\n",
    "plt.show()\n",
    "\n",
    "KR1_Cal_Temp_mean = Cal_KR[\"Temp\"][Cal_KR[\"House\"]==1].mean()\n",
    "LR1_Cal_Temp_mean = Cal_LR[\"Temp\"][Cal_LR[\"House\"]==1].mean()\n",
    "BR1_Cal_Temp_mean = Cal_BR[\"Temp\"][Cal_BR[\"House\"]==1].mean()\n",
    "\n",
    "H1_Cal_Temp_mean = (KR1_Cal_Temp_mean + LR1_Cal_Temp_mean + BR1_Cal_Temp_mean)/3\n",
    "\n",
    "KR1_Temp_adjustment = KR1_Cal_Temp_mean - H1_Cal_Temp_mean\n",
    "LR1_Temp_adjustment = LR1_Cal_Temp_mean - H1_Cal_Temp_mean\n",
    "BR1_Temp_adjustment = BR1_Cal_Temp_mean - H1_Cal_Temp_mean\n",
    "\n",
    "IAQ_KR[\"adj_Temp\"][IAQ_KR[\"House\"]==1] = IAQ_KR[\"Temp\"][IAQ_KR[\"House\"]==1] - KR1_Temp_adjustment\n",
    "IAQ_LR[\"adj_Temp\"][IAQ_LR[\"House\"]==1] = IAQ_LR[\"Temp\"][IAQ_LR[\"House\"]==1] - LR1_Temp_adjustment\n",
    "IAQ_BR[\"adj_Temp\"][IAQ_BR[\"House\"]==1] = IAQ_BR[\"Temp\"][IAQ_BR[\"House\"]==1] - BR1_Temp_adjustment\n",
    "\n",
    "plt.figure(figsize=(15,5))\n",
    "plt.plot(IAQ_KR[\"adj_Temp\"][IAQ_KR[\"House\"] == 1], label='Kitchen')\n",
    "plt.plot(IAQ_LR[\"adj_Temp\"][IAQ_LR[\"House\"] == 1], label='Living Room')\n",
    "plt.plot(IAQ_BR[\"adj_Temp\"][IAQ_BR[\"House\"] == 1], label='Bedroom')\n",
    "plt.xlabel('Days', size=12)\n",
    "plt.ylabel('Temperature', size=12)\n",
    "plt.legend(prop={'size': 12})\n",
    "plt.title(\"Adjusted Temp Activity - House 1\")\n",
    "plt.show();\n",
    "\n"
   ]
  },
  {
   "cell_type": "code",
   "execution_count": null,
   "metadata": {
    "scrolled": false
   },
   "outputs": [],
   "source": [
    "###############################################################################\n",
    "############################ T E M P E R A T U R E ############################\n",
    "###############################################################################\n",
    "################################ H O U S E   2 ################################\n",
    "###############################################################################\n",
    "\n",
    "plt.figure(figsize=(15,5))\n",
    "plt.plot(Cal_KR[\"Temp\"][Cal_KR[\"House\"] == 2], label='Kitchen')\n",
    "plt.plot(Cal_LR[\"Temp\"][Cal_LR[\"House\"] == 2], label='Living Room')\n",
    "plt.plot(Cal_BR[\"Temp\"][Cal_BR[\"House\"] == 2], label='Bedroom')\n",
    "plt.xlabel('Hours', size=12)\n",
    "plt.ylabel('Temperature', size=12)\n",
    "plt.legend(prop={'size': 12})\n",
    "plt.title(\"Temp Calibration - House 2\")\n",
    "plt.show();\n",
    "\n",
    "plt.figure(figsize=(15,5))\n",
    "plt.plot(IAQ_KR[\"Temp\"][IAQ_KR[\"House\"] == 2], label='Kitchen')\n",
    "plt.plot(IAQ_LR[\"Temp\"][IAQ_LR[\"House\"] == 2], label='Living Room')\n",
    "plt.plot(IAQ_BR[\"Temp\"][IAQ_BR[\"House\"] == 2], label='Bedroom')\n",
    "plt.xlabel('Days', size=12)\n",
    "plt.ylabel('Temperature', size=12)\n",
    "plt.legend(prop={'size': 12})\n",
    "plt.title(\"Temp Activity - House 2\")\n",
    "plt.show()\n",
    "\n",
    "KR2_Cal_Temp_mean = Cal_KR[\"Temp\"][Cal_KR[\"House\"]==2].mean()\n",
    "LR2_Cal_Temp_mean = Cal_LR[\"Temp\"][Cal_LR[\"House\"]==2].mean()\n",
    "BR2_Cal_Temp_mean = Cal_BR[\"Temp\"][Cal_BR[\"House\"]==2].mean()\n",
    "\n",
    "H2_Cal_Temp_mean = (KR2_Cal_Temp_mean + LR2_Cal_Temp_mean + BR2_Cal_Temp_mean)/3\n",
    "\n",
    "KR2_Temp_adjustment = KR2_Cal_Temp_mean - H2_Cal_Temp_mean\n",
    "LR2_Temp_adjustment = LR2_Cal_Temp_mean - H2_Cal_Temp_mean\n",
    "BR2_Temp_adjustment = BR2_Cal_Temp_mean - H2_Cal_Temp_mean\n",
    "\n",
    "IAQ_KR[\"adj_Temp\"][IAQ_KR[\"House\"]==2] = IAQ_KR[\"Temp\"][IAQ_KR[\"House\"]==2] - KR1_Temp_adjustment\n",
    "IAQ_LR[\"adj_Temp\"][IAQ_LR[\"House\"]==2] = IAQ_LR[\"Temp\"][IAQ_LR[\"House\"]==2] - LR1_Temp_adjustment\n",
    "IAQ_BR[\"adj_Temp\"][IAQ_BR[\"House\"]==2] = IAQ_BR[\"Temp\"][IAQ_BR[\"House\"]==2] - BR1_Temp_adjustment\n",
    "\n",
    "plt.figure(figsize=(15,5))\n",
    "plt.plot(IAQ_KR[\"adj_Temp\"][IAQ_KR[\"House\"] == 2], label='Kitchen')\n",
    "plt.plot(IAQ_LR[\"adj_Temp\"][IAQ_LR[\"House\"] == 2], label='Living Room')\n",
    "plt.plot(IAQ_BR[\"adj_Temp\"][IAQ_BR[\"House\"] == 2], label='Bedroom')\n",
    "plt.xlabel('Days', size=12)\n",
    "plt.ylabel('Temperature', size=12)\n",
    "plt.legend(prop={'size': 12})\n",
    "plt.title(\"Adjusted Temp Activity - House 2\")\n",
    "plt.show();"
   ]
  },
  {
   "cell_type": "code",
   "execution_count": null,
   "metadata": {
    "scrolled": false
   },
   "outputs": [],
   "source": [
    "###############################################################################\n",
    "###################### R E L A T I V E   H U M I D I T Y ######################\n",
    "###############################################################################\n",
    "################################ H O U S E   1 ################################\n",
    "###############################################################################\n",
    "\n",
    "plt.figure(figsize=(15,5))\n",
    "plt.plot(Cal_KR[\"RH\"][Cal_KR[\"House\"] == 1], label='Kitchen')\n",
    "plt.plot(Cal_LR[\"RH\"][Cal_LR[\"House\"] == 1], label='Living Room')\n",
    "plt.plot(Cal_BR[\"RH\"][Cal_BR[\"House\"] == 1], label='Bedroom')\n",
    "plt.xlabel('Hours', size=12)\n",
    "plt.ylabel('Relative Humidity', size=12)\n",
    "plt.legend(prop={'size': 12})\n",
    "plt.title(\"Relative Humidity Calibration - House 1\")\n",
    "plt.show()\n",
    "\n",
    "plt.figure(figsize=(15,5))\n",
    "plt.plot(IAQ_KR[\"RH\"][IAQ_KR[\"House\"] == 1], label='Kitchen')\n",
    "plt.plot(IAQ_LR[\"RH\"][IAQ_LR[\"House\"] == 1], label='Living Room')\n",
    "plt.plot(IAQ_BR[\"RH\"][IAQ_BR[\"House\"] == 1], label='Bedroom')\n",
    "plt.xlabel('Days', size=12)\n",
    "plt.ylabel('Relative Humidity', size=12)\n",
    "plt.legend(prop={'size': 12})\n",
    "plt.title(\"Relative Humidity Activity - House 1\")\n",
    "plt.show()\n",
    "\n",
    "KR1_Cal_RH_mean = Cal_KR[\"RH\"][Cal_KR[\"House\"]==1].mean()\n",
    "LR1_Cal_RH_mean = Cal_LR[\"RH\"][Cal_LR[\"House\"]==1].mean()\n",
    "BR1_Cal_RH_mean = Cal_BR[\"RH\"][Cal_BR[\"House\"]==1].mean()\n",
    "\n",
    "H1_Cal_RH_mean = (KR1_Cal_RH_mean + LR1_Cal_RH_mean + BR1_Cal_RH_mean)/3\n",
    "\n",
    "KR1_RH_adjustment = KR1_Cal_RH_mean - H1_Cal_RH_mean\n",
    "LR1_RH_adjustment = LR1_Cal_RH_mean - H1_Cal_RH_mean\n",
    "BR1_RH_adjustment = BR1_Cal_RH_mean - H1_Cal_RH_mean\n",
    "\n",
    "IAQ_KR[\"adj_RH\"][IAQ_KR[\"House\"]==1] = IAQ_KR[\"RH\"][IAQ_KR[\"House\"]==1] - KR1_RH_adjustment\n",
    "IAQ_LR[\"adj_RH\"][IAQ_LR[\"House\"]==1] = IAQ_LR[\"RH\"][IAQ_LR[\"House\"]==1] - LR1_RH_adjustment\n",
    "IAQ_BR[\"adj_RH\"][IAQ_BR[\"House\"]==1] = IAQ_BR[\"RH\"][IAQ_BR[\"House\"]==1] - BR1_RH_adjustment\n",
    "\n",
    "plt.figure(figsize=(15,5))\n",
    "plt.plot(IAQ_KR[\"adj_RH\"][IAQ_KR[\"House\"] == 1], label='Kitchen')\n",
    "plt.plot(IAQ_LR[\"adj_RH\"][IAQ_LR[\"House\"] == 1], label='Living Room')\n",
    "plt.plot(IAQ_BR[\"adj_RH\"][IAQ_BR[\"House\"] == 1], label='Bedroom')\n",
    "plt.xlabel('Days', size=12)\n",
    "plt.ylabel('Relative Humidity', size=12)\n",
    "plt.legend(prop={'size': 12})\n",
    "plt.title(\"Adjusted Relative Humidity Activity - House 1\")\n",
    "plt.show();"
   ]
  },
  {
   "cell_type": "code",
   "execution_count": null,
   "metadata": {},
   "outputs": [],
   "source": [
    "###############################################################################\n",
    "###################### R E L A T I V E   H U M I D I T Y ######################\n",
    "###############################################################################\n",
    "################################ H O U S E   2 ################################\n",
    "###############################################################################\n",
    "\n",
    "plt.figure(figsize=(15,5))\n",
    "plt.plot(Cal_KR[\"RH\"][Cal_KR[\"House\"] == 2], label='Kitchen')\n",
    "plt.plot(Cal_LR[\"RH\"][Cal_LR[\"House\"] == 2], label='Living Room')\n",
    "plt.plot(Cal_BR[\"RH\"][Cal_BR[\"House\"] == 2], label='Bedroom')\n",
    "plt.xlabel('Hours', size=12)\n",
    "plt.ylabel('Relative Humidity', size=12)\n",
    "plt.legend(prop={'size': 12})\n",
    "plt.title(\"Relative Humidity Calibration - House 2\")\n",
    "plt.show()\n",
    "\n",
    "plt.figure(figsize=(15,5))\n",
    "plt.plot(IAQ_KR[\"RH\"][IAQ_KR[\"House\"] == 2], label='Kitchen')\n",
    "plt.plot(IAQ_LR[\"RH\"][IAQ_LR[\"House\"] == 2], label='Living Room')\n",
    "plt.plot(IAQ_BR[\"RH\"][IAQ_BR[\"House\"] == 2], label='Bedroom')\n",
    "plt.xlabel('Days', size=12)\n",
    "plt.ylabel('Relative Humidity', size=12)\n",
    "plt.legend(prop={'size': 12})\n",
    "plt.title(\"Relative Humidity Activity - House 2\")\n",
    "plt.show()\n",
    "\n",
    "KR2_Cal_RH_mean = Cal_KR[\"RH\"][Cal_KR[\"House\"]==2].mean()\n",
    "LR2_Cal_RH_mean = Cal_LR[\"RH\"][Cal_LR[\"House\"]==2].mean()\n",
    "BR2_Cal_RH_mean = Cal_BR[\"RH\"][Cal_BR[\"House\"]==2].mean()\n",
    "\n",
    "H2_Cal_RH_mean = (KR2_Cal_RH_mean + LR2_Cal_RH_mean + BR2_Cal_RH_mean)/3\n",
    "\n",
    "KR2_RH_adjustment = KR2_Cal_RH_mean - H2_Cal_RH_mean\n",
    "LR2_RH_adjustment = LR2_Cal_RH_mean - H2_Cal_RH_mean\n",
    "BR2_RH_adjustment = BR2_Cal_RH_mean - H2_Cal_RH_mean\n",
    "\n",
    "IAQ_KR[\"adj_RH\"][IAQ_KR[\"House\"]==2] = IAQ_KR[\"RH\"][IAQ_KR[\"House\"]==2] - KR2_RH_adjustment\n",
    "\n",
    "#For the Living Room adjustement, we know that the house is very small and both Kitchen and Living Room are joined together\n",
    "# We notice that the calibration gap between the Kitchen and Living room sensors is around 5, however in the actual data\n",
    "# the spread appears to be in the order of 10 units. As such, to our LR2 adjustement, we add the difference we saw, 5\n",
    "IAQ_LR[\"adj_RH\"][IAQ_LR[\"House\"]==2] = IAQ_LR[\"RH\"][IAQ_LR[\"House\"]==2] - LR2_RH_adjustment+5\n",
    "IAQ_BR[\"adj_RH\"][IAQ_BR[\"House\"]==2] = IAQ_BR[\"RH\"][IAQ_BR[\"House\"]==2] - BR2_RH_adjustment\n",
    "\n",
    "plt.figure(figsize=(15,5))\n",
    "plt.plot(IAQ_KR[\"adj_RH\"][IAQ_KR[\"House\"] == 2], label='Kitchen')\n",
    "plt.plot(IAQ_LR[\"adj_RH\"][IAQ_LR[\"House\"] == 2], label='Living Room')\n",
    "plt.plot(IAQ_BR[\"adj_RH\"][IAQ_BR[\"House\"] == 2], label='Bedroom')\n",
    "plt.xlabel('Days', size=12)\n",
    "plt.ylabel('Relative Humidity', size=12)\n",
    "plt.legend(prop={'size': 12})\n",
    "plt.title(\"Adjusted Relative Humidity Activity - House 2\")\n",
    "plt.show();\n"
   ]
  },
  {
   "cell_type": "code",
   "execution_count": null,
   "metadata": {
    "scrolled": false
   },
   "outputs": [],
   "source": [
    "###############################################################################\n",
    "########################### A I R   P R E S S U R E ###########################\n",
    "###############################################################################\n",
    "################################ H O U S E   1 ################################\n",
    "###############################################################################\n",
    "\n",
    "plt.figure(figsize=(15,5))\n",
    "plt.plot(Cal_KR[\"AirPres\"][Cal_KR[\"House\"] == 1], label='Kitchen')\n",
    "plt.plot(Cal_LR[\"AirPres\"][Cal_LR[\"House\"] == 1], label='Living Room')\n",
    "plt.plot(Cal_BR[\"AirPres\"][Cal_BR[\"House\"] == 1], label='Bedroom')\n",
    "plt.xlabel('Hours', size=12)\n",
    "plt.ylabel('Air Pressure', size=12)\n",
    "plt.legend(prop={'size': 12})\n",
    "plt.title(\"AirPres Calibration - House 1\")\n",
    "plt.show()\n",
    "\n",
    "plt.figure(figsize=(15,5))\n",
    "plt.plot(IAQ_KR[\"AirPres\"][IAQ_KR[\"House\"] == 1], label='Kitchen')\n",
    "plt.plot(IAQ_LR[\"AirPres\"][IAQ_LR[\"House\"] == 1], label='Living Room')\n",
    "plt.plot(IAQ_BR[\"AirPres\"][IAQ_BR[\"House\"] == 1], label='Bedroom')\n",
    "plt.xlabel('Days', size=12)\n",
    "plt.ylabel('Air Pressure', size=12)\n",
    "plt.legend(prop={'size': 12})\n",
    "plt.title(\"AirPres Activity - House 1\")\n",
    "plt.show()\n",
    "\n",
    "KR1_Cal_AirPres_mean = Cal_KR[\"AirPres\"][Cal_KR[\"House\"]==1].mean()\n",
    "LR1_Cal_AirPres_mean = Cal_LR[\"AirPres\"][Cal_LR[\"House\"]==1].mean()\n",
    "BR1_Cal_AirPres_mean = Cal_BR[\"AirPres\"][Cal_BR[\"House\"]==1].mean()\n",
    "\n",
    "H1_Cal_AirPres_mean = (KR1_Cal_AirPres_mean + LR1_Cal_AirPres_mean + BR1_Cal_AirPres_mean)/3\n",
    "\n",
    "KR1_AirPres_adjustment = KR1_Cal_AirPres_mean - H1_Cal_AirPres_mean\n",
    "LR1_AirPres_adjustment = LR1_Cal_AirPres_mean - H1_Cal_AirPres_mean\n",
    "BR1_AirPres_adjustment = BR1_Cal_AirPres_mean - H1_Cal_AirPres_mean\n",
    "\n",
    "IAQ_KR[\"adj_AirPres\"][IAQ_KR[\"House\"]==1] = IAQ_KR[\"AirPres\"][IAQ_KR[\"House\"]==1] - KR1_AirPres_adjustment\n",
    "IAQ_LR[\"adj_AirPres\"][IAQ_LR[\"House\"]==1] = IAQ_LR[\"AirPres\"][IAQ_LR[\"House\"]==1] - LR1_AirPres_adjustment\n",
    "IAQ_BR[\"adj_AirPres\"][IAQ_BR[\"House\"]==1] = IAQ_BR[\"AirPres\"][IAQ_BR[\"House\"]==1] - BR1_AirPres_adjustment\n",
    "\n",
    "plt.figure(figsize=(15,5))\n",
    "plt.plot(IAQ_KR[\"adj_AirPres\"][IAQ_KR[\"House\"] == 1], label='Kitchen')\n",
    "plt.plot(IAQ_LR[\"adj_AirPres\"][IAQ_LR[\"House\"] == 1], label='Living Room')\n",
    "plt.plot(IAQ_BR[\"adj_AirPres\"][IAQ_BR[\"House\"] == 1], label='Bedroom')\n",
    "plt.xlabel('Days', size=12)\n",
    "plt.ylabel('Air Pressure', size=12)\n",
    "plt.legend(prop={'size': 12})\n",
    "plt.title(\"Adjusted AirPres Activity - House 1\")\n",
    "plt.show();"
   ]
  },
  {
   "cell_type": "code",
   "execution_count": null,
   "metadata": {},
   "outputs": [],
   "source": [
    "###############################################################################\n",
    "########################### A I R   P R E S S U R E ###########################\n",
    "###############################################################################\n",
    "################################ H O U S E   2 ################################\n",
    "###############################################################################\n",
    "\n",
    "plt.figure(figsize=(15,5))\n",
    "plt.plot(Cal_KR[\"AirPres\"][Cal_KR[\"House\"] == 2], label='Kitchen')\n",
    "plt.plot(Cal_LR[\"AirPres\"][Cal_LR[\"House\"] == 2], label='Living Room')\n",
    "plt.plot(Cal_BR[\"AirPres\"][Cal_BR[\"House\"] == 2], label='Bedroom')\n",
    "plt.xlabel('Hours', size=12)\n",
    "plt.ylabel('Air Pressure', size=12)\n",
    "plt.legend(prop={'size': 12})\n",
    "plt.title(\"AirPres Calibration - House 2\")\n",
    "plt.show()\n",
    "\n",
    "plt.figure(figsize=(15,5))\n",
    "plt.plot(IAQ_KR[\"AirPres\"][IAQ_KR[\"House\"] == 2], label='Kitchen')\n",
    "plt.plot(IAQ_LR[\"AirPres\"][IAQ_LR[\"House\"] == 2], label='Living Room')\n",
    "plt.plot(IAQ_BR[\"AirPres\"][IAQ_BR[\"House\"] == 2], label='Bedroom')\n",
    "plt.xlabel('Days', size=12)\n",
    "plt.ylabel('Air Pressure', size=12)\n",
    "plt.legend(prop={'size': 12})\n",
    "plt.title(\"AirPres Activity - House 2\")\n",
    "plt.show()\n",
    "\n",
    "KR2_Cal_AirPres_mean = Cal_KR[\"AirPres\"][Cal_KR[\"House\"]==2].mean()\n",
    "LR2_Cal_AirPres_mean = Cal_LR[\"AirPres\"][Cal_LR[\"House\"]==2].mean()\n",
    "BR2_Cal_AirPres_mean = Cal_BR[\"AirPres\"][Cal_BR[\"House\"]==2].mean()\n",
    "\n",
    "H2_Cal_AirPres_mean = (KR2_Cal_AirPres_mean + LR2_Cal_AirPres_mean + BR2_Cal_AirPres_mean)/3\n",
    "\n",
    "KR2_AirPres_adjustment = KR2_Cal_AirPres_mean - H2_Cal_AirPres_mean\n",
    "LR2_AirPres_adjustment = LR2_Cal_AirPres_mean - H2_Cal_AirPres_mean\n",
    "BR2_AirPres_adjustment = BR2_Cal_AirPres_mean - H2_Cal_AirPres_mean\n",
    "\n",
    "IAQ_KR[\"adj_AirPres\"][IAQ_KR[\"House\"]==2] = IAQ_KR[\"AirPres\"][IAQ_KR[\"House\"]==2] - KR2_AirPres_adjustment\n",
    "IAQ_LR[\"adj_AirPres\"][IAQ_LR[\"House\"]==2] = IAQ_LR[\"AirPres\"][IAQ_LR[\"House\"]==2] - LR2_AirPres_adjustment\n",
    "IAQ_BR[\"adj_AirPres\"][IAQ_BR[\"House\"]==2] = IAQ_BR[\"AirPres\"][IAQ_BR[\"House\"]==2] - BR2_AirPres_adjustment\n",
    "\n",
    "plt.figure(figsize=(15,5))\n",
    "plt.plot(IAQ_KR[\"adj_AirPres\"][IAQ_KR[\"House\"] == 2], label='Kitchen')\n",
    "plt.plot(IAQ_LR[\"adj_AirPres\"][IAQ_LR[\"House\"] == 2], label='Living Room')\n",
    "plt.plot(IAQ_BR[\"adj_AirPres\"][IAQ_BR[\"House\"] == 2], label='Bedroom')\n",
    "plt.xlabel('Days', size=12)\n",
    "plt.ylabel('Air Pressure', size=12)\n",
    "plt.legend(prop={'size': 12})\n",
    "plt.title(\"Adjusted AirPres Activity - House 2\")\n",
    "plt.show();"
   ]
  },
  {
   "cell_type": "code",
   "execution_count": null,
   "metadata": {
    "scrolled": false
   },
   "outputs": [],
   "source": [
    "###############################################################################\n",
    "############################ O Z O N E   &   N O 2 ############################\n",
    "###############################################################################\n",
    "\n",
    "plt.figure(figsize=(15,5))\n",
    "plt.plot(Cal_KR[\"Ozone\"][Cal_KR[\"House\"] == 1], label='Kitchen')\n",
    "plt.plot(Cal_LR[\"Ozone\"][Cal_LR[\"House\"] == 1], label='Living Room')\n",
    "plt.plot(Cal_BR[\"Ozone\"][Cal_BR[\"House\"] == 1], label='Bedroom')\n",
    "plt.xlabel('Hours', size=15, fontweight='bold')\n",
    "plt.ylabel('Ozone', size=15, fontweight='bold')\n",
    "plt.legend(loc=1, prop={'size': 12})\n",
    "plt.title(\"Ozone Calibration - House 1\", size=18)\n",
    "plt.show()\n",
    "\n",
    "plt.figure(figsize=(15,5))\n",
    "plt.plot(Cal_KR[\"Ozone\"][Cal_KR[\"House\"] == 2], label='Kitchen')\n",
    "plt.plot(Cal_LR[\"Ozone\"][Cal_LR[\"House\"] == 2], label='Living Room')\n",
    "plt.plot(Cal_BR[\"Ozone\"][Cal_BR[\"House\"] == 2], label='Bedroom')\n",
    "plt.legend(loc=1, prop={'size': 12})\n",
    "plt.xlabel('Hours', size=15, fontweight='bold')\n",
    "plt.ylabel('Ozone', size=15, fontweight='bold')\n",
    "plt.title(\"Ozone Calibration - House 2\", size=18)\n",
    "plt.show();\n",
    "\n",
    "plt.figure(figsize=(15,5))\n",
    "plt.plot(Cal_KR[\"NO2\"][Cal_KR[\"House\"] == 1], label='Kitchen')\n",
    "plt.plot(Cal_LR[\"NO2\"][Cal_LR[\"House\"] == 1], label='Living Room')\n",
    "plt.plot(Cal_BR[\"NO2\"][Cal_BR[\"House\"] == 1], label='Bedroom')\n",
    "plt.xlabel('Hours', size=15, fontweight='bold')\n",
    "plt.ylabel('NO2', size=15, fontweight='bold')\n",
    "plt.legend(loc=1, prop={'size': 12})\n",
    "plt.title(\"NO2 Calibration - House 1\", size=18)\n",
    "plt.show()\n",
    "\n",
    "plt.figure(figsize=(15,5))\n",
    "plt.plot(Cal_KR[\"NO2\"][Cal_KR[\"House\"] == 2], label='Kitchen')\n",
    "plt.plot(Cal_LR[\"NO2\"][Cal_LR[\"House\"] == 2], label='Living Room')\n",
    "plt.plot(Cal_BR[\"NO2\"][Cal_BR[\"House\"] == 2], label='Bedroom')\n",
    "plt.xlabel('Hours', size=15, fontweight='bold')\n",
    "plt.ylabel('NO2', size=15, fontweight='bold')\n",
    "plt.legend(loc=1, prop={'size': 12})\n",
    "plt.title(\"NO2 Calibration - House 2\", size=18)\n",
    "plt.show();"
   ]
  },
  {
   "cell_type": "code",
   "execution_count": null,
   "metadata": {},
   "outputs": [],
   "source": [
    "#We're excluding Ozone and NO2 from our model since we couldn't find any agreement in the calibration data\n",
    "#Additionally, we're removing all our original features and renaming the adjusted ones to what the original were called\n",
    "\n",
    "IAQ_LR.drop([\"NO2\", \"Ozone\", \"Temp\", \"RH\", \"PM2.5\", \"TVOC\", \"CO2\", \"AirPres\"], axis=1, inplace=True)\n",
    "IAQ_KR.drop([\"NO2\", \"Ozone\", \"Temp\", \"RH\", \"PM2.5\", \"TVOC\", \"CO2\", \"AirPres\"], axis=1, inplace=True)\n",
    "IAQ_BR.drop([\"NO2\", \"Ozone\", \"Temp\", \"RH\", \"PM2.5\", \"TVOC\", \"CO2\", \"AirPres\"], axis=1, inplace=True)\n",
    "\n",
    "IAQ_LR.columns = IAQ_LR.columns.str.replace(\"adj_\", \"\")\n",
    "IAQ_KR.columns = IAQ_KR.columns.str.replace(\"adj_\", \"\")\n",
    "IAQ_BR.columns = IAQ_BR.columns.str.replace(\"adj_\", \"\")\n",
    "\n",
    "#IAQ_LR.to_csv(r'treated datasets/IAQ_LR.csv')\n",
    "#IAQ_KR.to_csv(r'treated datasets/IAQ_KR.csv')\n",
    "#IAQ_BR.to_csv(r'treated datasets/IAQ_BR.csv')\n",
    "\n",
    "#Here we join the sensor data from our 3 rooms, Living Room, Kitchen and Bedroom with all activity available\n",
    "\n",
    "LR = pd.merge(IAQ_LR, activity, left_index=True, right_index=True)\n",
    "KR = pd.merge(IAQ_KR, activity, left_index=True, right_index=True)\n",
    "BR = pd.merge(IAQ_BR, activity, left_index=True, right_index=True)\n",
    "\n",
    "\n",
    "\n",
    "small_LR = pd.merge(IAQ_LR, activity_LR, left_index=True, right_index=True)\n",
    "small_KR = pd.merge(IAQ_KR, activity_KR, left_index=True, right_index=True)\n",
    "small_BR = pd.merge(IAQ_BR, activity_BR, left_index=True, right_index=True)\n",
    "\n",
    "\n",
    "#LR.to_csv(r'treated datasets/LivingRoom.csv')\n",
    "#KR.to_csv(r'treated datasets/Kitchen.csv')\n",
    "#BR.to_csv(r'treated datasets/Bedroom.csv')"
   ]
  },
  {
   "cell_type": "code",
   "execution_count": null,
   "metadata": {},
   "outputs": [],
   "source": [
    "#In case having +30 variables for the individual rooms turns out to be too much and make our models unstable, we'll model with\n",
    "#only the variables for the room in question\n",
    "\n",
    "small_LR = LR.copy()\n",
    "for i in small_LR.columns:\n",
    "    if '_KR' in i:\n",
    "        small_LR = small_LR.drop([i], axis=1)\n",
    "    elif '_BR' in i:\n",
    "        small_LR = small_LR.drop([i], axis=1)\n",
    "\n",
    "        \n",
    "small_KR = KR.copy()\n",
    "for i in small_KR.columns:\n",
    "    if '_LR' in i:\n",
    "        small_KR = small_KR.drop([i], axis=1)\n",
    "    elif '_BR' in i:\n",
    "        small_KR = small_KR.drop([i], axis=1)\n",
    "\n",
    "\n",
    "small_BR = BR.copy()\n",
    "for i in small_BR.columns:\n",
    "    if '_LR' in i:\n",
    "        small_BR = small_BR.drop([i], axis=1)\n",
    "    elif '_KR' in i:\n",
    "        small_BR = small_BR.drop([i], axis=1)\n",
    "        \n",
    "\n",
    "small_LR.columns = small_LR.columns.str.replace(\"_LR\", \"\")\n",
    "small_KR.columns = small_KR.columns.str.replace(\"_KR\", \"\")\n",
    "small_BR.columns = small_BR.columns.str.replace(\"_BR\", \"\")"
   ]
  },
  {
   "cell_type": "code",
   "execution_count": null,
   "metadata": {},
   "outputs": [],
   "source": [
    "#Here we create datasets for each room in each house and one for both rooms together. We do this as House 2 has slightly more\n",
    "#features available than House 1. The purpose of this split is to analyze which features are most impactful to PM2.5 and if\n",
    "#these features are equally impactful in both houses or not.\n",
    "\n",
    "LR1 = LR[LR[\"House\"] == 1].dropna(axis=1)\n",
    "LR2 = LR[LR[\"House\"] == 2].dropna(axis=1)\n",
    "LR  = LR.dropna(axis=1)\n",
    "\n",
    "KR1 = KR[KR[\"House\"] == 1].dropna(axis=1)\n",
    "KR2 = KR[KR[\"House\"] == 2].dropna(axis=1)\n",
    "KR  = KR.dropna(axis=1)\n",
    "\n",
    "BR1 = BR[BR[\"House\"] == 1].dropna(axis=1)\n",
    "BR2 = BR[BR[\"House\"] == 2].dropna(axis=1)\n",
    "BR  = BR.dropna(axis=1)\n",
    "\n",
    "\n",
    "small_LR1 = small_LR[small_LR[\"House\"] == 1].dropna(axis=1)\n",
    "small_LR2 = small_LR[small_LR[\"House\"] == 2].dropna(axis=1)\n",
    "small_LR  = small_LR.dropna(axis=1)\n",
    "\n",
    "small_KR1 = small_KR[small_KR[\"House\"] == 1].dropna(axis=1)\n",
    "small_KR2 = small_KR[small_KR[\"House\"] == 2].dropna(axis=1)\n",
    "small_KR  = small_KR.dropna(axis=1)\n",
    "\n",
    "small_BR1 = small_BR[small_BR[\"House\"] == 1].dropna(axis=1)\n",
    "small_BR2 = small_BR[small_BR[\"House\"] == 2].dropna(axis=1)\n",
    "small_BR  = small_BR.dropna(axis=1)\n",
    "\n",
    "\n",
    "#Creating a DF for House 1 (H1), House 2 (H2) and both houses (H) with rooms one-hot encoded\n",
    "df1_1 = LR1.copy()\n",
    "df1_2 = KR1.copy()\n",
    "df1_3 = BR1.copy()\n",
    "\n",
    "df2_1 = LR2.copy()\n",
    "df2_2 = KR2.copy()\n",
    "df2_3 = BR2.copy()\n",
    "\n",
    "df1_1[\"LivingRoom\"] = 1\n",
    "df1_1[\"Kitchen\"] = 0\n",
    "df1_1[\"Bedroom\"] = 0\n",
    "\n",
    "df1_2[\"LivingRoom\"] = 0\n",
    "df1_2[\"Kitchen\"] = 1\n",
    "df1_2[\"Bedroom\"] = 0\n",
    "\n",
    "df1_3[\"LivingRoom\"] = 0\n",
    "df1_3[\"Kitchen\"] = 0\n",
    "df1_3[\"Bedroom\"] = 1\n",
    "\n",
    "df2_1[\"LivingRoom\"] = 1\n",
    "df2_1[\"Kitchen\"] = 0\n",
    "df2_1[\"Bedroom\"] = 0\n",
    "\n",
    "df2_2[\"LivingRoom\"] = 0\n",
    "df2_2[\"Kitchen\"] = 1\n",
    "df2_2[\"Bedroom\"] = 0\n",
    "\n",
    "df2_3[\"LivingRoom\"] = 0\n",
    "df2_3[\"Kitchen\"] = 0\n",
    "df2_3[\"Bedroom\"] = 1\n",
    "\n",
    "\n",
    "H1 = pd.concat([df1_1, df1_2, df1_3], axis=0, sort=False)\n",
    "\n",
    "H2 = pd.concat([df2_1, df2_2, df2_3], axis=0, sort=False)\n",
    "H2.Door_LR = H2.Door_LR.astype(int)\n",
    "H2.Door_KR = H2.Door_KR.astype(int)\n",
    "H2.Door_BR = H2.Door_BR.astype(int)\n",
    "H2.Shower = H2.Shower.astype(int)\n",
    "\n",
    "H = pd.concat([H1, H2], axis=0, sort=False).dropna(axis=1)\n",
    "\n",
    "print(\"H shape:\",H.shape)\n",
    "print(\"H1 shape:\",H1.shape)\n",
    "print(\"H2 shape:\",H2.shape)\n",
    "print(\"\\n\")\n",
    "print('-------------------------')\n",
    "print(\"\\n\")\n",
    "print(\"LR shape:\",LR.shape)\n",
    "print(\"LR1 shape:\",LR1.shape)\n",
    "print(\"LR2 shape,\",LR2.shape)\n",
    "print(\"\\n\")\n",
    "print(\"KR shape:\",KR.shape)\n",
    "print(\"KR1 shape:\",KR1.shape)\n",
    "print(\"KR2 shape,\",KR2.shape)\n",
    "print(\"\\n\")\n",
    "print(\"BR shape:\",BR.shape)\n",
    "print(\"BR1 shape:\",BR1.shape)\n",
    "print(\"BR2 shape,\",BR2.shape)\n",
    "print(\"\\n\")\n",
    "print('-------------------------')\n",
    "print(\"\\n\")\n",
    "print(\"small_LR shape:\",small_LR.shape)\n",
    "print(\"small_LR1 shape:\",small_LR1.shape)\n",
    "print(\"small_LR2 shape,\",small_LR2.shape)\n",
    "print(\"\\n\")\n",
    "print(\"small_KR shape:\",small_KR.shape)\n",
    "print(\"small_KR1 shape:\",small_KR1.shape)\n",
    "print(\"small_KR2 shape,\",small_KR2.shape)\n",
    "print(\"\\n\")\n",
    "print(\"small_BR shape:\",small_BR.shape)\n",
    "print(\"small_BR1 shape:\",small_BR1.shape)\n",
    "print(\"small_BR2 shape,\",small_BR2.shape)"
   ]
  },
  {
   "cell_type": "code",
   "execution_count": null,
   "metadata": {},
   "outputs": [],
   "source": [
    "print (H1.columns)\n",
    "print (H2.columns)\n",
    "print(\"\\n\")\n",
    "print(\"Features in House 2 unavailable in House 1: Door and Shower\")"
   ]
  },
  {
   "cell_type": "markdown",
   "metadata": {},
   "source": [
    "# Exploratory Data Analysis"
   ]
  },
  {
   "cell_type": "markdown",
   "metadata": {},
   "source": [
    "## Goals of this section:\n",
    "\n",
    "We're dealing with two similar layout houses. Both houses have the Kitchen joined with the Living room and then a bedroom too.\n",
    "\n",
    "1 - Comparing means, standard deviations, mins and maximums between rooms in House 1 and 2; 6 comparisons.  \n",
    "2 - Comparing means between Activities' 1s and 0s. A \"1\" represents \"On/Open/Yes\", such as Heating On, Door Open, Frying occurred.  \n",
    "3 - We'll look into collinearity in this section as well as to prevent having a model with many features irrelevant to the change of PM2.5  \n",
    "4 - Related to the mins/max comparison, we'll look at outliers and consult our activity logs to try and explain what could have happened there"
   ]
  },
  {
   "cell_type": "code",
   "execution_count": null,
   "metadata": {
    "scrolled": false
   },
   "outputs": [],
   "source": [
    "display(H1.describe())\n",
    "display(H2.describe())"
   ]
  },
  {
   "cell_type": "code",
   "execution_count": null,
   "metadata": {},
   "outputs": [],
   "source": [
    "LR1_mean = round(LR1[\"PM2.5\"].mean(),4)\n",
    "LR1_std = round(LR1[\"PM2.5\"].std(),4)\n",
    "LR1_min = round(LR1[\"PM2.5\"].min(),4)\n",
    "LR1_max = round(LR1[\"PM2.5\"].max(),4)\n",
    "\n",
    "KR1_mean = round(KR1[\"PM2.5\"].mean(),4)\n",
    "KR1_std = round(KR1[\"PM2.5\"].std(),4)\n",
    "KR1_min = round(KR1[\"PM2.5\"].min(),4)\n",
    "KR1_max = round(KR1[\"PM2.5\"].max(),4)\n",
    "\n",
    "BR1_mean = round(BR1[\"PM2.5\"].mean(),4)\n",
    "BR1_std = round(BR1[\"PM2.5\"].std(),4)\n",
    "BR1_min = round(BR1[\"PM2.5\"].min(),4)\n",
    "BR1_max = round(BR1[\"PM2.5\"].max(),4)\n",
    "\n",
    "LR2_mean = round(LR2[\"PM2.5\"].mean(),4)\n",
    "LR2_std = round(LR2[\"PM2.5\"].std(),4)\n",
    "LR2_min = round(LR2[\"PM2.5\"].min(),4)\n",
    "LR2_max = round(LR2[\"PM2.5\"].max(),4)\n",
    "\n",
    "KR2_mean = round(KR2[\"PM2.5\"].mean(),4)\n",
    "KR2_std = round(KR2[\"PM2.5\"].std(),4)\n",
    "KR2_min = round(KR2[\"PM2.5\"].min(),4)\n",
    "KR2_max = round(KR2[\"PM2.5\"].max(),4)\n",
    "\n",
    "BR2_mean = round(BR2[\"PM2.5\"].mean(),4)\n",
    "BR2_std = round(BR2[\"PM2.5\"].std(),4)\n",
    "BR2_min = round(BR2[\"PM2.5\"].min(),4)\n",
    "BR2_max = round(BR2[\"PM2.5\"].max(),4)\n",
    "\n",
    "H1_mean = round(H1[\"PM2.5\"].mean(),4)\n",
    "H1_std = round(H1[\"PM2.5\"].std(),4)\n",
    "H1_min = round(H1[\"PM2.5\"].min(),4)\n",
    "H1_max = round(H1[\"PM2.5\"].max(),4)\n",
    "\n",
    "H2_mean = round(H2[\"PM2.5\"].mean(),4)\n",
    "H2_std = round(H2[\"PM2.5\"].std(),4)\n",
    "H2_min = round(H2[\"PM2.5\"].min(),4)\n",
    "H2_max = round(H2[\"PM2.5\"].max(),4)\n",
    "\n",
    "\n",
    "descriptives = {'Mean':[LR1_mean, KR1_mean, BR1_mean, LR2_mean, KR2_mean, BR2_mean, H1_mean, H2_mean], \n",
    "               'STD':[LR1_std, KR1_std, BR1_std, LR2_std, KR2_std, BR2_std, H1_std, H2_std],\n",
    "               'Min':[LR1_min, KR1_min, BR1_min, LR2_min, KR2_min, BR2_min, H1_min, H2_min],\n",
    "               'Max':[LR1_max, KR1_max, BR1_max, LR2_max, KR2_max, BR2_max, H1_max, H2_max],} \n",
    "\n",
    "descriptive_df = pd.DataFrame(descriptives, index =['LR1', 'KR1', 'BR1', 'LR2', 'KR2', 'BR2', 'H1', 'H2'])\n"
   ]
  },
  {
   "cell_type": "markdown",
   "metadata": {},
   "source": [
    "- LR1 and KR1 are very similar as they refer to a shared Kitchen and Living room. The sensors have been placed on opposite sides of the room\n",
    "\n",
    "- BR seems to have the smallest deviation in data from both sets which is to be expected as activities that generate PM2.5 (cooking, fireplace) aren't common there\n",
    "\n",
    "- Like LR1 and KR1, KR2 and LR2 refer to a joint Kitchen and Living room, however there's a clear increase in the mean on LR2. We'll have to investigate that further."
   ]
  },
  {
   "cell_type": "markdown",
   "metadata": {},
   "source": [
    "### Here we look for the most correlated features per room in each house. Count of activity occurrences and causation not accounted for here, we're just looking at the big picture for now and see if we have similar features affecting the same houses and/or the same rooms."
   ]
  },
  {
   "cell_type": "code",
   "execution_count": null,
   "metadata": {
    "scrolled": false
   },
   "outputs": [],
   "source": [
    "roompm25 = {'House 1':[LR1_mean, KR1_mean, BR1_mean], 'House 2':[LR2_mean, KR2_mean, BR2_mean]} \n",
    "roompm25_df = pd.DataFrame(roompm25, index =['Living Room', 'Kitchen', 'Bedroom']).T\n",
    "\n",
    "ax = roompm25_df[['Kitchen', 'Living Room', 'Bedroom']].plot(kind='bar',\n",
    "              figsize=(15,5), color=['royalblue', 'darkorange', 'forestgreen'], edgecolor='black',fontsize=13);\n",
    "ax.set_alpha(0.8)\n",
    "ax.legend(loc = 9, prop={'size': 15})\n",
    "ax.set_title('Mean PM2.5 by Room', fontsize=18)\n",
    "#ax.set_title(\"Overall PM2.5 mean per Room\",\n",
    "#fontsize=18)\n",
    "ax.set_ylim([0, 23])\n",
    "ax.set_ylabel('PM2.5', size=15, fontweight='bold')\n",
    "ax.set_xticklabels(labels=['House 1', 'House 2'], size=15, rotation=0, fontweight='bold')\n",
    "for i in ax.patches:\n",
    "    # get_x pulls left or right; get_height pushes up or down\n",
    "    ax.text(i.get_x()+0.04, i.get_height()+0.4, \\\n",
    "            str(round((i.get_height()), 2)), fontsize=15, color='dimgrey', rotation=0, fontweight='bold')"
   ]
  },
  {
   "cell_type": "code",
   "execution_count": null,
   "metadata": {},
   "outputs": [],
   "source": [
    "\n",
    "ax.set_alpha(0.8)\n",
    "\n",
    "ax.set_ylabel(\"RMSE\", fontsize=15, fontweight='bold');\n",
    "ax.set_xticklabels(score_df.index,rotation=0, fontsize=15, fontweight='bold')\n",
    "ax.set_ylim([0, 15])\n",
    "\n",
    "for i in ax.patches:\n",
    "    # get_x pulls left or right; get_height pushes up or down\n",
    "    ax.text(i.get_x()+0.015, i.get_height()+0.1, \\\n",
    "            str(round((i.get_height()), 2)), fontsize=12, color='black',\n",
    "                rotation=0, fontweight='bold')"
   ]
  },
  {
   "cell_type": "markdown",
   "metadata": {},
   "source": [
    "### With the distribution plots for House 1, House 2 and their combination, we aim to look at how PM2.5 is distributed and where the possible outliers lie in."
   ]
  },
  {
   "cell_type": "code",
   "execution_count": null,
   "metadata": {},
   "outputs": [],
   "source": [
    "#Distribution plots for House 1 and 2\n",
    "\n",
    "display(descriptive_df.loc[['H1', 'H2']])\n",
    "\n",
    "plt.figure(figsize=(15,5))\n",
    "sns.distplot(H1[\"PM2.5\"])\n",
    "plt.xlim(0, 150)\n",
    "plt.ylim(0, 0.12)\n",
    "plt.xticks(size=15)\n",
    "plt.xlabel('')\n",
    "plt.yticks(size=12)\n",
    "plt.title(\"PM2.5 - House 1\", size=20)\n",
    "plt.show()\n",
    "\n",
    "plt.figure(figsize=(15,5))\n",
    "sns.distplot(H2[\"PM2.5\"])\n",
    "plt.xlim(0, 150)\n",
    "plt.ylim(0, 0.12)\n",
    "plt.xticks(size=15)\n",
    "plt.xlabel('')\n",
    "plt.yticks(size=12)\n",
    "plt.title(\"PM2.5 - House 2\", size=20)\n",
    "plt.show()\n",
    "\n",
    "################################## Superimposed distplot ##################################\n",
    "\n",
    "plt.figure(figsize=(15,5))\n",
    "sns.distplot(H1[\"PM2.5\"], label = 'House 1')\n",
    "sns.distplot(H2[\"PM2.5\"], label = 'House 2')\n",
    "plt.xticks(size=15)\n",
    "plt.xlabel('')\n",
    "plt.yticks(size=12)\n",
    "plt.xlim(0, 150)\n",
    "plt.ylim(0, 0.12)\n",
    "plt.title(\"PM2.5 - Houses\", size=20)\n",
    "plt.legend(loc=1, prop={'size': 12})\n",
    "plt.show()"
   ]
  },
  {
   "cell_type": "code",
   "execution_count": null,
   "metadata": {
    "scrolled": false
   },
   "outputs": [],
   "source": [
    "#Distribution plots for House 1\n",
    "\n",
    "display(descriptive_df.loc[['LR1', 'KR1', 'BR1']])\n",
    "\n",
    "plt.figure(figsize=(15,5))\n",
    "sns.distplot(LR1[\"PM2.5\"])\n",
    "plt.xticks(size=15)\n",
    "plt.xlabel('')\n",
    "plt.yticks(size=12)\n",
    "plt.xlim(0, 80)\n",
    "plt.ylim(0, 0.12)\n",
    "plt.title(\"PM2.5 - House 1 - Living Room\", size=20)\n",
    "plt.show()\n",
    "\n",
    "plt.figure(figsize=(15,5))\n",
    "sns.distplot(KR1[\"PM2.5\"])\n",
    "plt.xticks(size=15)\n",
    "plt.xlabel('')\n",
    "plt.yticks(size=12)\n",
    "plt.xlim(0, 80)\n",
    "plt.ylim(0, 0.12)\n",
    "plt.title(\"PM2.5 - House 1 - Kitchen\", size=20)\n",
    "plt.show()\n",
    "\n",
    "plt.figure(figsize=(15,5))\n",
    "sns.distplot(BR1[\"PM2.5\"])\n",
    "plt.xticks(size=15)\n",
    "plt.xlabel('')\n",
    "plt.yticks(size=12)\n",
    "plt.xlim(0, 80)\n",
    "plt.ylim(0, 0.12)\n",
    "plt.title(\"PM2.5 - House 1 - Bedroom\", size=20)\n",
    "plt.show()\n",
    "\n",
    "\n",
    "################################## Superimposed distplot ##################################\n",
    "\n",
    "plt.figure(figsize=(15,5))\n",
    "sns.distplot(LR1[\"PM2.5\"], label = 'Living Room')\n",
    "sns.distplot(KR1[\"PM2.5\"], label = 'Kitchen')\n",
    "sns.distplot(BR1[\"PM2.5\"], label = 'Bedroom')\n",
    "plt.xticks(size=15)\n",
    "plt.xlabel('PM2.5', size=15, fontweight='bold')\n",
    "plt.yticks(size=10)\n",
    "plt.xlim(0, 80)\n",
    "plt.ylim(0, 0.12)\n",
    "plt.ylabel('Density', size=15, fontweight='bold')\n",
    "plt.title(\"PM2.5 - House 1\", size=18)\n",
    "plt.legend(loc=1, prop={'size': 15})\n",
    "plt.show()"
   ]
  },
  {
   "cell_type": "markdown",
   "metadata": {},
   "source": [
    "We immediately see the Kitchen and Living room showing some outliers on the 40 μg/m3 mark. This will need to be looked into."
   ]
  },
  {
   "cell_type": "code",
   "execution_count": null,
   "metadata": {
    "scrolled": false
   },
   "outputs": [],
   "source": [
    "#Distribution plots for House 2\n",
    "\n",
    "display(descriptive_df.loc[['LR2', 'KR2', 'BR2']])\n",
    "\n",
    "plt.figure(figsize=(15,5))\n",
    "sns.distplot(LR2[\"PM2.5\"])\n",
    "plt.xticks(size=15)\n",
    "plt.xlabel('')\n",
    "plt.yticks(size=12)\n",
    "plt.xlim(0, 150)\n",
    "plt.ylim(0, 0.1)\n",
    "plt.title(\"PM2.5 - House 2 - Living Room\", size=20)\n",
    "plt.show()\n",
    "\n",
    "plt.figure(figsize=(15,5))\n",
    "sns.distplot(KR2[\"PM2.5\"])\n",
    "plt.xticks(size=15)\n",
    "plt.xlabel('')\n",
    "plt.yticks(size=12)\n",
    "plt.xlim(0, 150)\n",
    "plt.ylim(0, 0.1)\n",
    "plt.title(\"PM2.5 - House 2 - Kitchen\", size=20)\n",
    "plt.show()\n",
    "\n",
    "plt.figure(figsize=(15,5))\n",
    "sns.distplot(BR2[\"PM2.5\"])\n",
    "plt.xticks(size=15)\n",
    "plt.xlabel('')\n",
    "plt.yticks(size=12)\n",
    "plt.xlim(0, 150)\n",
    "plt.ylim(0, 0.1)\n",
    "plt.title(\"PM2.5 - House 2 - Bedroom\", size=20)\n",
    "plt.show();\n",
    "\n",
    "\n",
    "################################## Superimposed distplot ##################################\n",
    "\n",
    "plt.figure(figsize=(15,5))\n",
    "sns.distplot(LR2[\"PM2.5\"], label = 'Living Room')\n",
    "sns.distplot(KR2[\"PM2.5\"], label = 'Kitchen')\n",
    "sns.distplot(BR2[\"PM2.5\"], label = 'Bedroom')\n",
    "plt.xticks(size=15)\n",
    "plt.xlabel('PM2.5', size=15, fontweight='bold')\n",
    "plt.yticks(size=10)\n",
    "plt.xlim(0, 150)\n",
    "plt.ylim(0, 0.1)\n",
    "plt.ylabel('Density', size=15, fontweight='bold')\n",
    "plt.title(\"PM2.5 - House 2\", size=18)\n",
    "plt.legend(loc=1, prop={'size': 12})\n",
    "plt.show()"
   ]
  },
  {
   "cell_type": "code",
   "execution_count": null,
   "metadata": {},
   "outputs": [],
   "source": [
    "day12 = round(H1['PM2.5'].loc['2019-02-12 00:00:00': '2019-02-12 23:00:00'].mean(),2)\n",
    "day13 = round(H1['PM2.5'].loc['2019-02-13 00:00:00': '2019-02-13 23:00:00'].mean(),2)\n",
    "day14 = round(H1['PM2.5'].loc['2019-02-14 00:00:00': '2019-02-14 23:00:00'].mean(),2)\n",
    "day15 = round(H1['PM2.5'].loc['2019-02-15 00:00:00': '2019-02-15 23:00:00'].mean(),2)\n",
    "day16 = round(H1['PM2.5'].loc['2019-02-16 00:00:00': '2019-02-16 23:00:00'].mean(),2)\n",
    "day17 = round(H1['PM2.5'].loc['2019-02-17 00:00:00': '2019-02-17 23:00:00'].mean(),2)\n",
    "day19 = round(H2['PM2.5'].loc['2019-02-19 00:00:00': '2019-02-19 23:00:00'].mean(),2)\n",
    "day20 = round(H2['PM2.5'].loc['2019-02-20 00:00:00': '2019-02-20 23:00:00'].mean(),2)\n",
    "day21 = round(H2['PM2.5'].loc['2019-02-21 00:00:00': '2019-02-21 23:00:00'].mean(),2)\n",
    "day22 = round(H2['PM2.5'].loc['2019-02-22 00:00:00': '2019-02-22 23:00:00'].mean(),2)\n",
    "day23 = round(H2['PM2.5'].loc['2019-02-23 00:00:00': '2019-02-23 23:00:00'].mean(),2)\n",
    "day24 = round(H2['PM2.5'].loc['2019-02-24 00:00:00': '2019-02-24 23:00:00'].mean(),2)\n",
    "day25 = round(H2['PM2.5'].loc['2019-02-25 00:00:00': '2019-02-25 23:00:00'].mean(),2)\n",
    "\n",
    "\n",
    "dailypm25 = [day12, day13, day14, day15, day16, day17, day19, day20, day21, day22, day23, day24, day25]\n",
    "\n",
    "dailypm25_df = pd.Series.from_array(dailypm25)\n",
    "\n",
    "x_labels = ['12th', '13th', '14th', '15th', '16th', '17th', '19th', '20th', '21st', '22nd', '23rd', '24th', '25th']\n",
    "\n",
    "# Plot the figure.\n",
    "plt.figure(figsize=(15,5))\n",
    "ax = dailypm25_df.plot(kind='bar', color=['mediumseagreen','mediumseagreen','mediumseagreen','mediumseagreen','mediumseagreen',\n",
    "                                          'mediumseagreen','orange','orange','orange','orange','orange',\n",
    "                                          'orange', 'orange'], edgecolor='black')\n",
    "ax.set_title('PM2.5 Daily Mean', size=18)\n",
    "ax.set_ylim(0, 40)\n",
    "lgd_H1 = mpatches.Patch(color='mediumseagreen', label='House 1')\n",
    "lgd_H2 = mpatches.Patch(color='orange', label='House 2')\n",
    "ax.legend(handles=[lgd_H1, lgd_H2], loc=1, prop={'size': 12})\n",
    "ax.set_xticklabels(x_labels, size=12, rotation=0)\n",
    "ax.set_yticklabels('')\n",
    "ax.set_xlabel('Days', size=15, fontweight='bold')\n",
    "ax.set_ylabel('PM2.5', size=15, fontweight='bold')\n",
    "\n",
    "\n",
    "def add_value_labels(ax, spacing=5):\n",
    "    \"\"\"Add labels to the end of each bar in a bar chart.\n",
    "\n",
    "    Arguments:\n",
    "        ax (matplotlib.axes.Axes): The matplotlib object containing the axes\n",
    "            of the plot to annotate.\n",
    "        spacing (int): The distance between the labels and the bars.\n",
    "    \"\"\"\n",
    "\n",
    "    # For each bar: Place a label\n",
    "    for rect in ax.patches:\n",
    "        # Get X and Y placement of label from rect.\n",
    "        y_value = rect.get_height()\n",
    "        x_value = rect.get_x() + rect.get_width() / 2\n",
    "\n",
    "        # Number of points between bar and label. Change to your liking.\n",
    "        space = spacing\n",
    "        # Vertical alignment for positive values\n",
    "        va = 'bottom'\n",
    "\n",
    "        # If value of bar is negative: Place label below bar\n",
    "        if y_value < 0:\n",
    "            # Invert space to place label below\n",
    "            space *= -1\n",
    "            # Vertically align label at top\n",
    "            va = 'top'\n",
    "\n",
    "        # Use Y value as label and format number with one decimal place\n",
    "        label = \"{:.1f}\".format(y_value)\n",
    "\n",
    "        # Create annotation\n",
    "        ax.annotate(\n",
    "            label,                      # Use `label` as label\n",
    "            (x_value, y_value),         # Place label at end of the bar\n",
    "            xytext=(0, space),          # Vertically shift label by `space`\n",
    "            textcoords=\"offset points\", # Interpret `xytext` as offset in points\n",
    "            ha='center',                # Horizontally center label\n",
    "            va=va,                      # Vertically align label differently for\n",
    "            size=15)                    # Change text size                    \n",
    "\n",
    "\n",
    "\n",
    "# Call the function above. All the magic happens there.\n",
    "add_value_labels(ax)"
   ]
  },
  {
   "cell_type": "code",
   "execution_count": null,
   "metadata": {},
   "outputs": [],
   "source": [
    "H1['PM2.5'].loc['2019-02-15 00:00:00': '2019-02-15 23:00:00']"
   ]
  },
  {
   "cell_type": "code",
   "execution_count": null,
   "metadata": {},
   "outputs": [],
   "source": [
    "H1['PM2.5'].sort_values(ascending=False).head(15)"
   ]
  },
  {
   "cell_type": "code",
   "execution_count": null,
   "metadata": {},
   "outputs": [],
   "source": [
    "#Consulting the activity record, the occupant mentioned Frying occurred at 19:15. As such, we will interpret the value from \n",
    "#18:00 as faulty and remove it.\n",
    "\n",
    "display(H1[['PM2.5', 'Frying', 'Boiling', 'Vacuuming_KR', 'Vacuuming_LR', 'Vacuuming_BR', 'Mopping_KR', 'Mopping_LR', 'Mopping_BR',]][H1['LivingRoom'] == 1].loc['2019-02-15 11:00:00': '2019-02-15 22:00:00'])\n",
    "print('LIVING ROOM')\n",
    "\n",
    "display(H1[['PM2.5', 'Frying', 'Boiling', 'Vacuuming_KR', 'Vacuuming_LR', 'Vacuuming_BR', 'Mopping_KR', 'Mopping_LR', 'Mopping_BR',]][H1['Kitchen'] == 1].loc['2019-02-15 11:00:00': '2019-02-15 22:00:00'])\n",
    "print('KITCHEN')\n",
    "\n",
    "display(H1[['PM2.5', 'Frying', 'Boiling', 'Vacuuming_KR', 'Vacuuming_LR', 'Vacuuming_BR', 'Mopping_KR', 'Mopping_LR', 'Mopping_BR',]][H1['Bedroom'] == 1].loc['2019-02-15 11:00:00': '2019-02-15 22:00:00'])\n",
    "print('BEDROOM')\n",
    "\n"
   ]
  },
  {
   "cell_type": "code",
   "execution_count": null,
   "metadata": {},
   "outputs": [],
   "source": [
    "H2['PM2.5'].sort_values(ascending=False).head(40)"
   ]
  },
  {
   "cell_type": "code",
   "execution_count": null,
   "metadata": {
    "scrolled": false
   },
   "outputs": [],
   "source": [
    "display(H2[['PM2.5', 'Frying', 'Boiling', 'Vacuuming_KR', 'Vacuuming_LR', 'Vacuuming_BR', 'Mopping_KR', 'Mopping_LR', 'Mopping_BR',]][H2['LivingRoom'] == 1].loc['2019-02-23 13:00:00': '2019-02-24 00:00:00'])\n",
    "print('LIVING ROOM')\n",
    "\n",
    "display(H2[['PM2.5', 'Frying', 'Boiling', 'Vacuuming_KR', 'Vacuuming_LR', 'Vacuuming_BR', 'Mopping_KR', 'Mopping_LR', 'Mopping_BR',]][H2['Kitchen'] == 1].loc['2019-02-23 13:00:00': '2019-02-24 00:00:00'])\n",
    "print('KITCHEN')\n",
    "\n",
    "display(H2[['PM2.5', 'Frying', 'Boiling', 'Vacuuming_KR', 'Vacuuming_LR', 'Vacuuming_BR', 'Mopping_KR', 'Mopping_LR', 'Mopping_BR',]][H2['Bedroom'] == 1].loc['2019-02-23 13:00:00': '2019-02-24 00:00:00'])\n",
    "print('BEDROOM')"
   ]
  },
  {
   "cell_type": "code",
   "execution_count": null,
   "metadata": {},
   "outputs": [],
   "source": [
    "def corr_matrix(df):\n",
    "\n",
    "    df_corr_matrix=df.corr()[\"PM2.5\"].drop(df.corr().index[1])\n",
    "    best_features_list = df_corr_matrix[abs(df_corr_matrix) >= 0.3].sort_values(ascending=False)\n",
    "    weak_features_list = df_corr_matrix[(abs(df_corr_matrix) >= 0.2) & (abs(df_corr_matrix) < 0.3)].sort_values(ascending=False)\n",
    "\n",
    "    print(\"There are {} moderately (> 0.3) correlated values with PM2.5:\\n{}\".format(len(best_features_list), best_features_list))\n",
    "    print('\\n')\n",
    "    print(\"There are {} weakly (0.2 - 0.3) correlated values with PM2.5:\\n{}\".format(len(weak_features_list), weak_features_list))"
   ]
  },
  {
   "cell_type": "code",
   "execution_count": null,
   "metadata": {},
   "outputs": [],
   "source": [
    "corr_matrix(LR1)"
   ]
  },
  {
   "cell_type": "code",
   "execution_count": null,
   "metadata": {},
   "outputs": [],
   "source": [
    "corr_matrix(KR1)"
   ]
  },
  {
   "cell_type": "code",
   "execution_count": null,
   "metadata": {},
   "outputs": [],
   "source": [
    "corr_matrix(BR1)"
   ]
  },
  {
   "cell_type": "code",
   "execution_count": null,
   "metadata": {},
   "outputs": [],
   "source": [
    "corr_matrix(H1)"
   ]
  },
  {
   "cell_type": "code",
   "execution_count": null,
   "metadata": {},
   "outputs": [],
   "source": [
    "corr_matrix(LR2)"
   ]
  },
  {
   "cell_type": "code",
   "execution_count": null,
   "metadata": {},
   "outputs": [],
   "source": [
    "corr_matrix(KR2)"
   ]
  },
  {
   "cell_type": "code",
   "execution_count": null,
   "metadata": {},
   "outputs": [],
   "source": [
    "corr_matrix(BR2)"
   ]
  },
  {
   "cell_type": "code",
   "execution_count": null,
   "metadata": {},
   "outputs": [],
   "source": [
    "corr_matrix(H2)"
   ]
  },
  {
   "cell_type": "code",
   "execution_count": null,
   "metadata": {},
   "outputs": [],
   "source": [
    "corr_matrix(H)"
   ]
  },
  {
   "cell_type": "markdown",
   "metadata": {},
   "source": [
    "# Boxplots\n",
    "\n",
    "Here we first compare the mean PM.25 of all 3 rooms in both houses and then we compare most predictors against PM2.5 for both houses."
   ]
  },
  {
   "cell_type": "code",
   "execution_count": null,
   "metadata": {},
   "outputs": [],
   "source": [
    "EDA = round(H,2).copy()\n",
    "EDA1 = round(H1,2).copy()\n",
    "EDA2 = round(H2,2).copy()\n",
    "\n",
    "EDA.name = 'EDA'\n",
    "EDA1.name = 'EDA1'\n",
    "EDA2.name = 'EDA2'"
   ]
  },
  {
   "cell_type": "code",
   "execution_count": null,
   "metadata": {},
   "outputs": [],
   "source": [
    "EDA['TVOC_cut'] = pd.cut(EDA['TVOC'], 4)\n",
    "EDA['TVOC_Qcut'] = pd.qcut(EDA['TVOC'], 4)\n",
    "\n",
    "EDA['CO2_cut'] = pd.cut(EDA['CO2'], 4)\n",
    "EDA['CO2_Qcut'] = pd.qcut(EDA['CO2'], 4)\n",
    "\n",
    "EDA['Temp_cut'] = pd.cut(EDA['Temp'], 4)\n",
    "EDA['Temp_Qcut'] = pd.qcut(EDA['Temp'], 4)\n",
    "\n",
    "EDA['RH_cut'] = pd.cut(EDA['RH'], 4)\n",
    "EDA['RH_Qcut'] = pd.qcut(EDA['RH'], 4)\n",
    "\n",
    "EDA['AirPres_cut'] = pd.cut(EDA['AirPres'], 4)\n",
    "EDA['AirPres_Qcut'] = pd.qcut(EDA['AirPres'], 4)\n",
    "\n",
    "EDA['Room'] = 'Kitchen'\n",
    "EDA['Room'][EDA['LivingRoom'] == 1] = 'Living Room'\n",
    "EDA['Room'][EDA['Bedroom'] == 1] = 'Bedroom'\n",
    "\n",
    "EDA['timeOfDay'] = EDA['timeOfDay'].map({0:'00:00 - 06:00', 1:'06:00 - 12:00', 2:'12:00 - 18:00', 3:'18:00 - 00:00'})\n",
    "\n",
    "\n",
    "EDA1['TVOC_cut'] = pd.cut(EDA1['TVOC'], 4)\n",
    "EDA1['TVOC_Qcut'] = pd.qcut(EDA1['TVOC'], 4)\n",
    "\n",
    "EDA1['CO2_cut'] = pd.cut(EDA1['CO2'], 4)\n",
    "EDA1['CO2_Qcut'] = pd.qcut(EDA1['CO2'], 4)\n",
    "\n",
    "EDA1['Temp_cut'] = pd.cut(EDA1['Temp'], 4)\n",
    "EDA1['Temp_Qcut'] = pd.qcut(EDA1['Temp'], 4)\n",
    "\n",
    "EDA1['RH_cut'] = pd.cut(EDA1['RH'], 4)\n",
    "EDA1['RH_Qcut'] = pd.qcut(EDA1['RH'], 4)\n",
    "\n",
    "EDA1['AirPres_cut'] = pd.cut(EDA1['AirPres'], 4)\n",
    "EDA1['AirPres_Qcut'] = pd.qcut(EDA1['AirPres'], 4)\n",
    "\n",
    "EDA1['Room'] = 'Kitchen'\n",
    "EDA1['Room'][EDA1['LivingRoom'] == 1] = 'Living Room'\n",
    "EDA1['Room'][EDA1['Bedroom'] == 1] = 'Bedroom'\n",
    "\n",
    "EDA1['timeOfDay'] = EDA1['timeOfDay'].map({0:'00:00 - 06:00', 1:'06:00 - 12:00', 2:'12:00 - 18:00', 3:'18:00 - 00:00'})\n",
    "\n",
    "\n",
    "EDA2['TVOC_cut'] = pd.cut(EDA2['TVOC'], 4)\n",
    "EDA2['TVOC_Qcut'] = pd.qcut(EDA2['TVOC'], 4)\n",
    "\n",
    "EDA2['CO2_cut'] = pd.cut(EDA2['CO2'], 4)\n",
    "EDA2['CO2_Qcut'] = pd.qcut(EDA2['CO2'], 4)\n",
    "\n",
    "EDA2['Temp_cut'] = pd.cut(EDA2['Temp'], 4)\n",
    "EDA2['Temp_Qcut'] = pd.qcut(EDA2['Temp'], 4)\n",
    "\n",
    "EDA2['RH_cut'] = pd.cut(EDA2['RH'], 4)\n",
    "EDA2['RH_Qcut'] = pd.qcut(EDA2['RH'], 4)\n",
    "\n",
    "EDA2['AirPres_cut'] = pd.cut(EDA2['AirPres'], 4)\n",
    "EDA2['AirPres_Qcut'] = pd.qcut(EDA2['AirPres'], 4)\n",
    "\n",
    "EDA2['Room'] = 'Kitchen'\n",
    "EDA2['Room'][EDA2['LivingRoom'] == 1] = 'Living Room'\n",
    "EDA2['Room'][EDA2['Bedroom'] == 1] = 'Bedroom'\n",
    "\n",
    "EDA2['timeOfDay'] = EDA2['timeOfDay'].map({0:'00:00 - 06:00', 1:'06:00 - 12:00', 2:'12:00 - 18:00', 3:'18:00 - 00:00'})\n",
    "\n",
    "\n",
    "\n",
    "xEDA1 = EDA1.copy()\n",
    "\n",
    "xEDA1[['Temp', 'RH', 'PM2.5', 'TVOC', 'CO2', 'AirPres','MaxOccupancy_BR', \n",
    "     'MaxOccupancy_LR','MaxOccupancy_KR']] = MinMaxScaler().fit_transform(\n",
    "     xEDA1[['Temp', 'RH', 'PM2.5', 'TVOC', 'CO2', 'AirPres', 'MaxOccupancy_BR', \n",
    "             'MaxOccupancy_LR','MaxOccupancy_KR']])\n",
    "\n",
    "xEDA1 = xEDA1.sort_index()\n",
    "xEDA1.name = 'xEDA1'\n",
    "\n",
    "\n",
    "\n",
    "xEDA2 = EDA2.copy()\n",
    "\n",
    "xEDA2[['Temp', 'RH', 'PM2.5', 'TVOC', 'CO2', 'AirPres','MaxOccupancy_BR', \n",
    "     'MaxOccupancy_LR','MaxOccupancy_KR']] = MinMaxScaler().fit_transform(\n",
    "     xEDA2[['Temp', 'RH', 'PM2.5', 'TVOC', 'CO2', 'AirPres', 'MaxOccupancy_BR', \n",
    "             'MaxOccupancy_LR','MaxOccupancy_KR']])\n",
    "\n",
    "xEDA2 = xEDA2.sort_index()\n",
    "xEDA2.name = 'xEDA2'"
   ]
  },
  {
   "cell_type": "code",
   "execution_count": null,
   "metadata": {
    "scrolled": false
   },
   "outputs": [],
   "source": [
    "def my_boxplot(df, feature):\n",
    "\n",
    "    plt.figure(figsize=(15,5))\n",
    "    sns.boxplot(x='Room', y='PM2.5', hue= feature, data=df)\n",
    "    plt.xticks(np.arange(3), size=15, fontweight='bold')\n",
    "    plt.xlabel('')\n",
    "    plt.ylabel('PM2.5', size=15, fontweight='bold')\n",
    "    plt.yticks(size=12)\n",
    "\n",
    "    if df.name == 'EDA1':\n",
    "        plt.title(\"PM2.5 - \"+feature+' - House 1', size=18)\n",
    "    else:\n",
    "        plt.title(\"PM2.5 - \"+feature+' - House 2', size=18)  \n",
    "    plt.legend(loc=1, prop={'size': 15})\n",
    "    plt.show();\n",
    "\n",
    "    display(df.groupby(['Room',feature],sort=True)['PM2.5'].agg(['count', 'mean', 'median']).round(2))\n",
    "\n",
    "\n",
    "def my_scatterplot(house, feature, xlim_min, xlim_max):\n",
    "\n",
    "    plt.figure(figsize=(15,5))\n",
    "    sns.scatterplot(x=feature, y='PM2.5', hue='Room', hue_order = ['Kitchen', 'Living Room', 'Bedroom'], data=EDA[EDA['House'] == house])\n",
    "    plt.xlabel(feature, size=15, fontweight='bold')\n",
    "    plt.ylabel('PM2.5', size=15, fontweight='bold')\n",
    "    plt.xticks(size=12)\n",
    "    plt.yticks(size=12)\n",
    "    plt.xlim(xlim_min, xlim_max)\n",
    "    plt.ylim(0, 139)\n",
    "    plt.title(\"PM2.5 ~ \"+feature+' - House '+str(house), size=18)\n",
    "    plt.legend(loc=1, prop={'size': 15})\n",
    "    plt.show();\n",
    "\n",
    "\n",
    "def my_stepplot(df, room, feature):\n",
    "    \n",
    "    plt.figure(figsize=(15, 5))\n",
    "    plt.plot(df[\"PM2.5\"][df['Room'] == room])\n",
    "    plt.ylim(0,1.13)\n",
    "    plt.ylabel('Normalized PM2.5', size=15, fontweight='bold')\n",
    "    plt.xlabel('Days', size=15, fontweight='bold')\n",
    "    \n",
    "    if df.name == 'xEDA1':\n",
    "        plt.title('House 1 - ' + room + ' - PM2.5 ~ ' + feature, size=18)\n",
    "    else:\n",
    "        plt.title('House 2 - ' + room + ' - PM2.5 ~ ' + feature, size=18)        \n",
    "\n",
    "    plt.fill_between(df.index,df[feature], step=\"pre\", alpha=0.3, color='darkorange')\n",
    "    event = mpatches.Patch(color='darkorange', label=feature+' active (On/Yes/Open)', alpha=0.3)\n",
    "    plt.legend(handles=[event], loc=1, prop={'size': 15})\n",
    "    plt.show();"
   ]
  },
  {
   "cell_type": "code",
   "execution_count": null,
   "metadata": {},
   "outputs": [],
   "source": [
    "my_stepplot(xEDA1, 'Living Room', 'Frying')"
   ]
  },
  {
   "cell_type": "code",
   "execution_count": null,
   "metadata": {},
   "outputs": [],
   "source": [
    "plt.figure(figsize=(15,5))\n",
    "sns.boxplot(x='House', y='PM2.5', hue='Room', hue_order = ['Kitchen', 'Living Room', 'Bedroom'], data=EDA)\n",
    "plt.xticks(np.arange(2),('House 1', 'House 2'), size=15, fontweight='bold')\n",
    "plt.xlabel('')\n",
    "plt.ylabel('PM2.5', size=15, fontweight='bold')\n",
    "plt.yticks(size=12)\n",
    "plt.ylim(0,159)\n",
    "plt.title(\"PM2.5 - Overview\", size=18)\n",
    "plt.legend(prop={'size': 15})\n",
    "plt.show()"
   ]
  },
  {
   "cell_type": "markdown",
   "metadata": {},
   "source": [
    "House 2 has considerably more outliers than 1. Given their rather different room dimensions, it could explain why most of the Kitchen and Living Room outliers didn't seep into the Bedroom."
   ]
  },
  {
   "cell_type": "markdown",
   "metadata": {},
   "source": [
    "House 2 has 4 features that House 1 doesn't have; shower, LR_OpenDoor, KR_OpenDoor and BR_OpenDoor. We'll look at these first."
   ]
  },
  {
   "cell_type": "markdown",
   "metadata": {},
   "source": [
    "We weren't able to see any noticeable differences in the level of PM with the activity of Shower, as this mostly would affect a room we are not tracking and we only have 9 observations out of 139 where Shower is active."
   ]
  },
  {
   "cell_type": "markdown",
   "metadata": {},
   "source": [
    "The only room with a considerable count of both \"1\"s and \"0\"s is the Bedroom and there doesn't seem to be any difference in PM2.5 between them. "
   ]
  },
  {
   "cell_type": "markdown",
   "metadata": {},
   "source": [
    "We'll now look into some of the continuous variables from our sensors."
   ]
  },
  {
   "cell_type": "code",
   "execution_count": null,
   "metadata": {
    "scrolled": false
   },
   "outputs": [],
   "source": [
    "my_scatterplot(1, 'TVOC', -20, 1125)\n",
    "my_boxplot(EDA1, 'TVOC_cut')\n",
    "my_boxplot(EDA1, 'TVOC_Qcut')\n",
    "\n",
    "my_scatterplot(2, 'TVOC', 95, 1000)\n",
    "my_boxplot(EDA2, 'TVOC_cut')\n",
    "my_boxplot(EDA2, 'TVOC_Qcut')"
   ]
  },
  {
   "cell_type": "code",
   "execution_count": null,
   "metadata": {
    "scrolled": false
   },
   "outputs": [],
   "source": [
    "my_scatterplot(1, 'CO2', 350, 1475)\n",
    "my_boxplot(EDA1, 'CO2_cut')\n",
    "my_boxplot(EDA1, 'CO2_Qcut')\n",
    "\n",
    "my_scatterplot(2, 'CO2', 350, 3600)\n",
    "my_boxplot(EDA2, 'CO2_cut')\n",
    "my_boxplot(EDA2, 'CO2_Qcut')"
   ]
  },
  {
   "cell_type": "code",
   "execution_count": null,
   "metadata": {
    "scrolled": false
   },
   "outputs": [],
   "source": [
    "my_scatterplot(1, 'Temp', 14.8, 23)\n",
    "my_boxplot(EDA1, 'Temp_cut')\n",
    "my_boxplot(EDA1, 'Temp_Qcut')\n",
    "\n",
    "my_scatterplot(2, 'Temp', 19, 25)\n",
    "my_boxplot(EDA2, 'Temp_cut')\n",
    "my_boxplot(EDA2, 'Temp_Qcut')"
   ]
  },
  {
   "cell_type": "code",
   "execution_count": null,
   "metadata": {
    "scrolled": false
   },
   "outputs": [],
   "source": [
    "my_scatterplot(1, 'RH', 50, 77)\n",
    "my_boxplot(EDA1, 'RH_cut')\n",
    "my_boxplot(EDA1, 'RH_Qcut')\n",
    "\n",
    "my_scatterplot(2, 'RH', 50, 77)\n",
    "my_boxplot(EDA2, 'RH_cut')\n",
    "my_boxplot(EDA2, 'RH_Qcut')"
   ]
  },
  {
   "cell_type": "code",
   "execution_count": null,
   "metadata": {
    "scrolled": false
   },
   "outputs": [],
   "source": [
    "my_scatterplot(1, 'AirPres', 997, 1030)\n",
    "my_boxplot(EDA1, 'AirPres_cut')\n",
    "my_boxplot(EDA1, 'AirPres_Qcut')\n",
    "\n",
    "my_scatterplot(2, 'AirPres', 997, 1030)\n",
    "my_boxplot(EDA2, 'AirPres_cut')\n",
    "my_boxplot(EDA2, 'AirPres_Qcut')"
   ]
  },
  {
   "cell_type": "markdown",
   "metadata": {},
   "source": [
    "### We now plot all of our categorical variables against our target variable for both houses."
   ]
  },
  {
   "cell_type": "code",
   "execution_count": null,
   "metadata": {},
   "outputs": [],
   "source": [
    "#Reference for variables\n",
    "display(EDA1.columns)\n",
    "display(EDA2.columns)"
   ]
  },
  {
   "cell_type": "code",
   "execution_count": null,
   "metadata": {
    "scrolled": false
   },
   "outputs": [],
   "source": [
    "my_boxplot(EDA2, 'Shower')\n",
    "my_stepplot(xEDA2,'Living Room', 'Shower')\n",
    "my_stepplot(xEDA2,'Kitchen', 'Shower')\n",
    "my_stepplot(xEDA2,'Bedroom', 'Shower')\n",
    "\n",
    "my_boxplot(EDA2, 'Door_KR')\n",
    "my_stepplot(xEDA2,'Living Room', 'Door_KR')\n",
    "my_stepplot(xEDA2,'Kitchen', 'Door_KR')\n",
    "my_stepplot(xEDA2,'Bedroom', 'Door_KR')\n",
    "\n",
    "my_boxplot(EDA2, 'Door_LR')\n",
    "my_stepplot(xEDA2,'Living Room', 'Door_LR')\n",
    "my_stepplot(xEDA2,'Kitchen', 'Door_LR')\n",
    "my_stepplot(xEDA2,'Bedroom', 'Door_LR')\n",
    "\n",
    "my_boxplot(EDA2, 'Door_BR')\n",
    "my_stepplot(xEDA2,'Living Room', 'Door_BR')\n",
    "my_stepplot(xEDA2,'Kitchen', 'Door_BR')\n",
    "my_stepplot(xEDA2,'Bedroom', 'Door_BR')"
   ]
  },
  {
   "cell_type": "code",
   "execution_count": null,
   "metadata": {
    "scrolled": false
   },
   "outputs": [],
   "source": [
    "my_boxplot(EDA1, 'MaxOccupancy_LR')\n",
    "my_stepplot(xEDA1,'Living Room', 'MaxOccupancy_LR')\n",
    "my_stepplot(xEDA1,'Kitchen', 'MaxOccupancy_LR')\n",
    "my_stepplot(xEDA1,'Bedroom', 'MaxOccupancy_LR')\n",
    "\n",
    "my_boxplot(EDA1, 'MaxOccupancy_KR')\n",
    "my_stepplot(xEDA1,'Living Room', 'MaxOccupancy_KR')\n",
    "my_stepplot(xEDA1,'Kitchen', 'MaxOccupancy_KR')\n",
    "my_stepplot(xEDA1,'Bedroom', 'MaxOccupancy_KR')\n",
    "\n",
    "my_boxplot(EDA1, 'MaxOccupancy_BR')\n",
    "my_stepplot(xEDA1,'Living Room', 'MaxOccupancy_BR')\n",
    "my_stepplot(xEDA1,'Kitchen', 'MaxOccupancy_BR')\n",
    "my_stepplot(xEDA1,'Bedroom', 'MaxOccupancy_BR')"
   ]
  },
  {
   "cell_type": "code",
   "execution_count": null,
   "metadata": {
    "scrolled": false
   },
   "outputs": [],
   "source": [
    "my_boxplot(EDA2, 'MaxOccupancy_LR')\n",
    "my_stepplot(xEDA2,'Living Room', 'MaxOccupancy_LR')\n",
    "my_stepplot(xEDA2,'Kitchen', 'MaxOccupancy_LR')\n",
    "my_stepplot(xEDA2,'Bedroom', 'MaxOccupancy_LR')\n",
    "\n",
    "my_boxplot(EDA2, 'MaxOccupancy_KR')\n",
    "my_stepplot(xEDA2,'Living Room', 'MaxOccupancy_KR')\n",
    "my_stepplot(xEDA2,'Kitchen', 'MaxOccupancy_KR')\n",
    "my_stepplot(xEDA2,'Bedroom', 'MaxOccupancy_KR')\n",
    "\n",
    "my_boxplot(EDA2, 'MaxOccupancy_BR')\n",
    "my_stepplot(xEDA2,'Living Room', 'MaxOccupancy_BR')\n",
    "my_stepplot(xEDA2,'Kitchen', 'MaxOccupancy_BR')\n",
    "my_stepplot(xEDA2,'Bedroom', 'MaxOccupancy_BR')"
   ]
  },
  {
   "cell_type": "code",
   "execution_count": null,
   "metadata": {
    "scrolled": false
   },
   "outputs": [],
   "source": [
    "my_boxplot(EDA1, 'Window_LR')\n",
    "my_stepplot(xEDA1,'Living Room', 'Window_LR')\n",
    "my_stepplot(xEDA1,'Kitchen', 'Window_LR')\n",
    "my_stepplot(xEDA1,'Bedroom', 'Window_LR')\n",
    "\n",
    "my_boxplot(EDA1, 'Window_BR')\n",
    "my_stepplot(xEDA1,'Living Room', 'Window_BR')\n",
    "my_stepplot(xEDA1,'Kitchen', 'Window_BR')\n",
    "my_stepplot(xEDA1,'Bedroom', 'Window_BR')"
   ]
  },
  {
   "cell_type": "code",
   "execution_count": null,
   "metadata": {
    "scrolled": false
   },
   "outputs": [],
   "source": [
    "my_boxplot(EDA2, 'Window_LR')\n",
    "my_stepplot(xEDA2,'Living Room', 'Window_LR')\n",
    "my_stepplot(xEDA2,'Kitchen', 'Window_LR')\n",
    "my_stepplot(xEDA2,'Bedroom', 'Window_LR')\n",
    "\n",
    "my_boxplot(EDA2, 'Window_BR')\n",
    "my_stepplot(xEDA2,'Living Room', 'Window_BR')\n",
    "my_stepplot(xEDA2,'Kitchen', 'Window_BR')\n",
    "my_stepplot(xEDA2,'Bedroom', 'Window_BR')"
   ]
  },
  {
   "cell_type": "code",
   "execution_count": null,
   "metadata": {
    "scrolled": false
   },
   "outputs": [],
   "source": [
    "my_boxplot(EDA1, 'Curtains_LR')\n",
    "my_stepplot(xEDA1,'Living Room', 'Curtains_LR')\n",
    "my_stepplot(xEDA1,'Kitchen', 'Curtains_LR')\n",
    "my_stepplot(xEDA1,'Bedroom', 'Curtains_LR')\n",
    "\n",
    "my_boxplot(EDA1, 'Curtains_KR')\n",
    "my_stepplot(xEDA1,'Living Room', 'Curtains_KR')\n",
    "my_stepplot(xEDA1,'Kitchen', 'Curtains_KR')\n",
    "my_stepplot(xEDA1,'Bedroom', 'Curtains_KR')\n",
    "\n",
    "my_boxplot(EDA1, 'Curtains_BR')\n",
    "my_stepplot(xEDA1,'Living Room', 'Curtains_BR')\n",
    "my_stepplot(xEDA1,'Kitchen', 'Curtains_BR')\n",
    "my_stepplot(xEDA1,'Bedroom', 'Curtains_BR')"
   ]
  },
  {
   "cell_type": "code",
   "execution_count": null,
   "metadata": {
    "scrolled": false
   },
   "outputs": [],
   "source": [
    "my_boxplot(EDA2, 'Curtains_LR')\n",
    "my_stepplot(xEDA2,'Living Room', 'Curtains_LR')\n",
    "my_stepplot(xEDA2,'Kitchen', 'Curtains_LR')\n",
    "my_stepplot(xEDA2,'Bedroom', 'Curtains_LR')\n",
    "\n",
    "my_boxplot(EDA2, 'Curtains_BR')\n",
    "my_stepplot(xEDA2,'Living Room', 'Curtains_BR')\n",
    "my_stepplot(xEDA2,'Kitchen', 'Curtains_BR')\n",
    "my_stepplot(xEDA2,'Bedroom', 'Curtains_BR')"
   ]
  },
  {
   "cell_type": "code",
   "execution_count": null,
   "metadata": {
    "scrolled": false
   },
   "outputs": [],
   "source": [
    "my_boxplot(EDA2, 'Vacuuming_LR')\n",
    "my_stepplot(xEDA2,'Living Room', 'Vacuuming_LR')\n",
    "my_stepplot(xEDA2,'Kitchen', 'Vacuuming_LR')\n",
    "my_stepplot(xEDA2,'Bedroom', 'Vacuuming_LR')\n",
    "\n",
    "my_boxplot(EDA2, 'Vacuuming_KR')\n",
    "my_stepplot(xEDA2,'Living Room', 'Vacuuming_KR')\n",
    "my_stepplot(xEDA2,'Kitchen', 'Vacuuming_KR')\n",
    "my_stepplot(xEDA2,'Bedroom', 'Vacuuming_KR')\n",
    "\n",
    "my_boxplot(EDA2, 'Vacuuming_BR')\n",
    "my_stepplot(xEDA2,'Living Room', 'Vacuuming_BR')\n",
    "my_stepplot(xEDA2,'Kitchen', 'Vacuuming_BR')\n",
    "my_stepplot(xEDA2,'Bedroom', 'Vacuuming_BR')"
   ]
  },
  {
   "cell_type": "code",
   "execution_count": null,
   "metadata": {
    "scrolled": false
   },
   "outputs": [],
   "source": [
    "my_boxplot(EDA1, 'Mopping_KR')\n",
    "my_stepplot(xEDA1,'Living Room', 'Mopping_KR')\n",
    "my_stepplot(xEDA1,'Kitchen', 'Mopping_KR')\n",
    "my_stepplot(xEDA1,'Bedroom', 'Mopping_KR')"
   ]
  },
  {
   "cell_type": "code",
   "execution_count": null,
   "metadata": {
    "scrolled": false
   },
   "outputs": [],
   "source": [
    "my_boxplot(EDA2, 'Mopping_LR')\n",
    "my_stepplot(xEDA2,'Living Room', 'Mopping_LR')\n",
    "my_stepplot(xEDA2,'Kitchen', 'Mopping_LR')\n",
    "my_stepplot(xEDA2,'Bedroom', 'Mopping_LR')\n",
    "\n",
    "my_boxplot(EDA2, 'Mopping_KR')\n",
    "my_stepplot(xEDA2,'Living Room', 'Mopping_KR')\n",
    "my_stepplot(xEDA2,'Kitchen', 'Mopping_KR')\n",
    "my_stepplot(xEDA2,'Bedroom', 'Mopping_KR')\n",
    "\n",
    "my_boxplot(EDA2, 'Mopping_BR')\n",
    "my_stepplot(xEDA2,'Living Room', 'Mopping_BR')\n",
    "my_stepplot(xEDA2,'Kitchen', 'Mopping_BR')\n",
    "my_stepplot(xEDA2,'Bedroom', 'Mopping_BR')"
   ]
  },
  {
   "cell_type": "code",
   "execution_count": null,
   "metadata": {
    "scrolled": false
   },
   "outputs": [],
   "source": [
    "my_boxplot(EDA1, 'Heating_LR')\n",
    "my_stepplot(xEDA1,'Living Room', 'Heating_LR')\n",
    "my_stepplot(xEDA1,'Kitchen', 'Heating_LR')\n",
    "my_stepplot(xEDA1,'Bedroom', 'Heating_LR')\n",
    "\n",
    "my_boxplot(EDA1, 'Heating_KR')\n",
    "my_stepplot(xEDA1,'Living Room', 'Heating_KR')\n",
    "my_stepplot(xEDA1,'Kitchen', 'Heating_KR')\n",
    "my_stepplot(xEDA1,'Bedroom', 'Heating_KR')\n",
    "\n",
    "my_boxplot(EDA1, 'Heating_BR')\n",
    "my_stepplot(xEDA1,'Living Room', 'Heating_BR')\n",
    "my_stepplot(xEDA1,'Kitchen', 'Heating_BR')\n",
    "my_stepplot(xEDA1,'Bedroom', 'Heating_BR')"
   ]
  },
  {
   "cell_type": "code",
   "execution_count": null,
   "metadata": {
    "scrolled": false
   },
   "outputs": [],
   "source": [
    "my_boxplot(EDA2, 'Heating_LR')\n",
    "my_stepplot(xEDA2,'Living Room', 'Heating_LR')\n",
    "my_stepplot(xEDA2,'Kitchen', 'Heating_LR')\n",
    "my_stepplot(xEDA2,'Bedroom', 'Heating_LR')\n",
    "\n",
    "my_boxplot(EDA2, 'Heating_KR')\n",
    "my_stepplot(xEDA2,'Living Room', 'Heating_LR')\n",
    "my_stepplot(xEDA2,'Kitchen', 'Heating_LR')\n",
    "my_stepplot(xEDA2,'Bedroom', 'Heating_LR')\n",
    "\n",
    "my_boxplot(EDA2, 'Heating_BR')\n",
    "my_stepplot(xEDA2,'Living Room', 'Heating_BR')\n",
    "my_stepplot(xEDA2,'Kitchen', 'Heating_BR')\n",
    "my_stepplot(xEDA2,'Bedroom', 'Heating_BR')"
   ]
  },
  {
   "cell_type": "code",
   "execution_count": null,
   "metadata": {
    "scrolled": false
   },
   "outputs": [],
   "source": [
    "my_boxplot(EDA1, 'Frying')\n",
    "my_stepplot(xEDA1,'Living Room', 'Frying')\n",
    "my_stepplot(xEDA1,'Kitchen', 'Frying')\n",
    "my_stepplot(xEDA1,'Bedroom', 'Frying')\n",
    "\n",
    "my_boxplot(EDA2, 'Frying')\n",
    "my_stepplot(xEDA2,'Living Room', 'Frying')\n",
    "my_stepplot(xEDA2,'Kitchen', 'Frying')\n",
    "my_stepplot(xEDA2,'Bedroom', 'Frying')"
   ]
  },
  {
   "cell_type": "code",
   "execution_count": null,
   "metadata": {
    "scrolled": false
   },
   "outputs": [],
   "source": [
    "my_boxplot(EDA1, 'Boiling')\n",
    "my_stepplot(xEDA1,'Living Room', 'Boiling')\n",
    "my_stepplot(xEDA1,'Kitchen', 'Boiling')\n",
    "my_stepplot(xEDA1,'Bedroom', 'Boiling')\n",
    "\n",
    "my_boxplot(EDA2, 'Boiling')\n",
    "my_stepplot(xEDA2,'Living Room', 'Boiling')\n",
    "my_stepplot(xEDA2,'Kitchen', 'Boiling')\n",
    "my_stepplot(xEDA2,'Bedroom', 'Boiling')"
   ]
  },
  {
   "cell_type": "code",
   "execution_count": null,
   "metadata": {
    "scrolled": false
   },
   "outputs": [],
   "source": [
    "my_boxplot(EDA1, 'Dishwasher')\n",
    "my_stepplot(xEDA1,'Living Room', 'Dishwasher')\n",
    "my_stepplot(xEDA1,'Kitchen', 'Dishwasher')\n",
    "my_stepplot(xEDA1,'Bedroom', 'Dishwasher')\n",
    "\n",
    "my_boxplot(EDA2, 'Dishwasher')\n",
    "my_stepplot(xEDA2,'Living Room', 'Dishwasher')\n",
    "my_stepplot(xEDA2,'Kitchen', 'Dishwasher')\n",
    "my_stepplot(xEDA2,'Bedroom', 'Dishwasher')"
   ]
  },
  {
   "cell_type": "code",
   "execution_count": null,
   "metadata": {
    "scrolled": false
   },
   "outputs": [],
   "source": [
    "my_boxplot(EDA2, 'WashingMachine')\n",
    "my_stepplot(xEDA2,'Living Room', 'WashingMachine')\n",
    "my_stepplot(xEDA2,'Kitchen', 'WashingMachine')\n",
    "my_stepplot(xEDA2,'Bedroom', 'WashingMachine')"
   ]
  },
  {
   "cell_type": "code",
   "execution_count": null,
   "metadata": {
    "scrolled": false
   },
   "outputs": [],
   "source": [
    "my_boxplot(EDA2, 'Toaster')\n",
    "my_stepplot(xEDA2,'Living Room', 'Toaster')\n",
    "my_stepplot(xEDA2,'Kitchen', 'Toaster')\n",
    "my_stepplot(xEDA2,'Bedroom', 'Toaster')"
   ]
  },
  {
   "cell_type": "code",
   "execution_count": null,
   "metadata": {
    "scrolled": false
   },
   "outputs": [],
   "source": [
    "my_boxplot(EDA1, 'FireLit')\n",
    "my_stepplot(xEDA1,'Living Room', 'FireLit')\n",
    "my_stepplot(xEDA1,'Kitchen', 'FireLit')\n",
    "my_stepplot(xEDA1,'Bedroom', 'FireLit')"
   ]
  },
  {
   "cell_type": "code",
   "execution_count": null,
   "metadata": {
    "scrolled": false
   },
   "outputs": [],
   "source": [
    "my_boxplot(EDA1, 'timeOfDay')\n",
    "my_boxplot(EDA2, 'timeOfDay')"
   ]
  },
  {
   "cell_type": "code",
   "execution_count": null,
   "metadata": {
    "scrolled": false
   },
   "outputs": [],
   "source": [
    "#Not using the function as we need to make some adjustments to the legend size\n",
    "\n",
    "plt.figure(figsize=(15,5))\n",
    "sns.boxplot(x='Room', y='PM2.5', hue= 'Hour', data=EDA1)\n",
    "plt.xticks(np.arange(3), size=15, fontweight='bold')\n",
    "plt.xlabel('')\n",
    "plt.ylabel('PM2.5', size=15, fontweight='bold')\n",
    "plt.yticks(size=12)\n",
    "\n",
    "plt.title(\"PM2.5 - Hour - House 1\", size=18)\n",
    "plt.legend().remove()\n",
    "plt.show()\n",
    "\n",
    "display(EDA1.groupby(['Room','Hour'],sort=True)['PM2.5'].agg(['count', 'mean', 'median']).round(2))\n",
    "\n",
    "plt.figure(figsize=(15,5))\n",
    "sns.boxplot(x='Room', y='PM2.5', hue= 'Hour', data=EDA2)\n",
    "plt.xticks(np.arange(3), size=15, fontweight='bold')\n",
    "plt.xlabel('')\n",
    "plt.ylabel('PM2.5', size=15, fontweight='bold')\n",
    "plt.yticks(size=12)\n",
    "\n",
    "plt.title(\"PM2.5 - Hour - House 2\", size=18)\n",
    "plt.legend().remove()\n",
    "plt.show()\n",
    "\n",
    "display(EDA2.groupby(['Room','Hour'],sort=True)['PM2.5'].agg(['count', 'mean', 'median']).round(2))"
   ]
  },
  {
   "cell_type": "markdown",
   "metadata": {},
   "source": [
    "\n",
    "# Modeling"
   ]
  },
  {
   "cell_type": "code",
   "execution_count": null,
   "metadata": {},
   "outputs": [],
   "source": [
    "H = H.drop(['Hour', 'House'], axis=1)\n",
    "H1 = H1.drop(['Hour', 'House'], axis=1)\n",
    "H2 = H2.drop(['Hour', 'House'], axis=1)"
   ]
  },
  {
   "cell_type": "code",
   "execution_count": null,
   "metadata": {},
   "outputs": [],
   "source": [
    "def train_test (df):\n",
    "        \n",
    "    X = df.drop([\"PM2.5\"], axis=1)\n",
    "    y = df[\"PM2.5\"]\n",
    "        \n",
    "    X_train, X_test, y_train, y_test = train_test_split(X, y, test_size=0.25, random_state = 42)\n",
    "            \n",
    "    return (X_train, X_test, y_train, y_test)"
   ]
  },
  {
   "cell_type": "code",
   "execution_count": null,
   "metadata": {},
   "outputs": [],
   "source": [
    "def rmse(y_pred, y_test):\n",
    "\n",
    "    return np.sqrt(np.mean((y_pred - y_test)**2))"
   ]
  },
  {
   "cell_type": "code",
   "execution_count": null,
   "metadata": {},
   "outputs": [],
   "source": [
    "def rf_baseline(df):\n",
    "\n",
    "    X_train, X_test, y_train, y_test = train_test(df)\n",
    "        \n",
    "    model = RandomForestRegressor(random_state = 42)\n",
    "    model.fit(X_train, y_train);\n",
    "    y_pred = model.predict(X_test)\n",
    "\n",
    "    print('Baseline RMSE:',round(rmse(y_pred, y_test),4))\n",
    "    print('Baseline MAE:',round(mean_absolute_error(y_pred, y_test),4))"
   ]
  },
  {
   "cell_type": "code",
   "execution_count": null,
   "metadata": {},
   "outputs": [],
   "source": [
    "def rf_baseline(df):\n",
    "    \n",
    "    X_train, X_test, y_train, y_test = train_test(df)\n",
    "    \n",
    "\n",
    "    max_features = ['auto', None]\n",
    "\n",
    "\n",
    "    params = {'max_features': max_features}\n",
    "    \n",
    "\n",
    "    scorers = {'RMSE': make_scorer(rmse, greater_is_better=False),\n",
    "               'MAE': make_scorer(mean_absolute_error, greater_is_better=False)}\n",
    "\n",
    "    cv = RepeatedKFold(n_splits=10, n_repeats=10)\n",
    "    random.seed(42)\n",
    "    grid = GridSearchCV(estimator=RandomForestRegressor(random_state = 42),\n",
    "                        param_grid=params, \n",
    "                        verbose=1, \n",
    "                        cv=cv, \n",
    "                        n_jobs =-1, \n",
    "                        scoring=scorers, \n",
    "                        refit = 'RMSE')\n",
    "    \n",
    "    grid = grid.fit(X_train, y_train)\n",
    "    \n",
    "    y_pred = grid.predict(X_test)\n",
    "    \n",
    "    print('Parameters used:', grid.best_params_,'\\n')\n",
    "    print('Cross Validation:')\n",
    "    print('RMSE Score:', round(-1*grid.best_score_,4))\n",
    "    print('MAE Score:',round(grid.cv_results_['mean_test_MAE'][grid.cv_results_['rank_test_MAE'] == 1].item(0)*-1,4))\n",
    "    print ('\\nHoldout set:')\n",
    "    print('RMSE Score:',round(-1*grid.score(X_test, y_test),4))\n",
    "    print('MAE Score:',round(mean_absolute_error(y_pred, y_test),4)) "
   ]
  },
  {
   "cell_type": "code",
   "execution_count": null,
   "metadata": {},
   "outputs": [],
   "source": [
    "rf_baseline(H)"
   ]
  },
  {
   "cell_type": "code",
   "execution_count": null,
   "metadata": {},
   "outputs": [],
   "source": [
    "print('Dataset: H1')\n",
    "rf_baseline(H1)\n",
    "print('\\n')\n",
    "print('Dataset: H2')\n",
    "rf_baseline(H2)\n",
    "print('\\n')\n",
    "print('Dataset: H')\n",
    "rf_baseline(H)\n",
    "print('\\n')\n",
    "print('Dataset: LR1')\n",
    "rf_baseline(LR1)\n",
    "print('\\n')\n",
    "print('Dataset: small_LR1')\n",
    "rf_baseline(small_LR1)\n",
    "print('\\n')\n",
    "print('Dataset: KR1')\n",
    "rf_baseline(KR1)\n",
    "print('\\n')\n",
    "print('Dataset: small_KR1')\n",
    "rf_baseline(small_KR1)\n",
    "print('\\n')\n",
    "print('Dataset: BR1')\n",
    "rf_baseline(BR1)\n",
    "print('\\n')\n",
    "print('Dataset: small_BR1')\n",
    "rf_baseline(small_BR1)\n",
    "print('\\n')\n",
    "print('Dataset: LR2')\n",
    "rf_baseline(LR2)\n",
    "print('\\n')\n",
    "print('Dataset: small_LR2')\n",
    "rf_baseline(small_LR2)\n",
    "print('\\n')\n",
    "print('Dataset: KR2')\n",
    "rf_baseline(KR2)\n",
    "print('\\n')\n",
    "print('Dataset: small_KR2')\n",
    "rf_baseline(small_KR2)\n",
    "print('\\n')\n",
    "print('Dataset: BR2')\n",
    "rf_baseline(BR2)\n",
    "print('\\n')\n",
    "print('Dataset: small_BR2')\n",
    "rf_baseline(small_BR2)"
   ]
  },
  {
   "cell_type": "code",
   "execution_count": null,
   "metadata": {},
   "outputs": [],
   "source": [
    "[int(x) for x in np.logspace(start = np.log10(10), stop = np.log10(300), num = 20)]"
   ]
  },
  {
   "cell_type": "code",
   "execution_count": null,
   "metadata": {},
   "outputs": [],
   "source": [
    "def find_rf_params(df):\n",
    "\n",
    "    X_train, X_test, y_train, y_test = train_test(df)\n",
    "\n",
    "    n_estimators = [int(x) for x in np.logspace(start = np.log10(100), stop = np.log10(1000), num = 50)]\n",
    "    max_features = ['auto', 'sqrt', 'log2', None]   \n",
    "    max_depth = [int(x) for x in np.logspace(start = np.log10(10), stop = np.log10(300), num = 50)]\n",
    "    max_depth.append(None)\n",
    "    min_samples_split = [2, 3]\n",
    "    min_samples_leaf = [1, 2, 3]\n",
    "    bootstrap = [True, False]\n",
    "\n",
    "    random_grid = {'n_estimators': n_estimators,\n",
    "                   'max_features': max_features,\n",
    "                   'max_depth': max_depth,\n",
    "                   'min_samples_split': min_samples_split,\n",
    "                   'min_samples_leaf': min_samples_leaf,\n",
    "                   'bootstrap': bootstrap}\n",
    "\n",
    "    randomgrid = RandomizedSearchCV(estimator = RandomForestRegressor(random_state=random.seed(42)), \n",
    "                                   param_distributions = random_grid, \n",
    "                                   n_iter = 1000, \n",
    "                                   cv = 10, \n",
    "                                   verbose=1, \n",
    "                                   random_state=random.seed(42), \n",
    "                                   n_jobs = -1,\n",
    "                                   scoring=make_scorer(rmse, greater_is_better=False))  \n",
    "    \n",
    "    randomgrid.fit(X_train, y_train)\n",
    "    \n",
    "    return randomgrid"
   ]
  },
  {
   "cell_type": "code",
   "execution_count": null,
   "metadata": {
    "scrolled": false
   },
   "outputs": [],
   "source": [
    "grid1 = find_rf_params(H1)\n",
    "#grid2 = find_rf_params(H2)\n",
    "#grid3 = find_rf_params(H)\n",
    "\n",
    "#grid4 = find_rf_params(LR1)\n",
    "#grid5 = find_rf_params(KR1)\n",
    "#grid6 = find_rf_params(BR1)\n",
    "#grid7 = find_rf_params(LR2)\n",
    "#grid8 = find_rf_params(KR2)\n",
    "#grid9 = find_rf_params(BR2)\n",
    "\n",
    "#grid10 = find_rf_params(small_LR1)\n",
    "#grid11 = find_rf_params(small_KR1)\n",
    "#grid12 = find_rf_params(small_BR1)\n",
    "#grid13 = find_rf_params(small_LR2)\n",
    "#grid14 = find_rf_params(small_KR2)\n",
    "#grid15 = find_rf_params(small_BR2)"
   ]
  },
  {
   "cell_type": "code",
   "execution_count": null,
   "metadata": {},
   "outputs": [],
   "source": [
    "[int(x) for x in np.logspace(start = np.log10(10), stop = np.log10(60), num = 10)]"
   ]
  },
  {
   "cell_type": "code",
   "execution_count": null,
   "metadata": {},
   "outputs": [],
   "source": [
    "print('----- H1 -----')\n",
    "print(grid1.best_params_)\n",
    "print('----- H2 -----')\n",
    "print(grid2.best_params_)\n",
    "print('----- H -----')\n",
    "print(grid3.best_params_)"
   ]
  },
  {
   "cell_type": "code",
   "execution_count": null,
   "metadata": {
    "scrolled": false
   },
   "outputs": [],
   "source": [
    "print('----- H1 -----')\n",
    "print(grid1.best_params_)\n",
    "print('----- H2 -----')\n",
    "print(grid2.best_params_)\n",
    "print('----- H -----')\n",
    "print(grid3.best_params_)\n",
    "print('----- LR1 -----')\n",
    "print(grid4.best_params_)\n",
    "print('----- KR1 -----')\n",
    "print(grid5.best_params_)\n",
    "print('----- BR1 -----')\n",
    "print(grid6.best_params_)\n",
    "print('----- LR2 -----')\n",
    "print(grid7.best_params_)\n",
    "print('----- KR2 -----')\n",
    "print(grid8.best_params_)\n",
    "print('----- BR2 -----')\n",
    "print(grid9.best_params_)\n",
    "print('----- small_LR1 -----')\n",
    "print(grid10.best_params_)\n",
    "print('----- small_KR1 -----')\n",
    "print(grid11.best_params_)\n",
    "print('----- small_BR1 -----')\n",
    "print(grid12.best_params_)\n",
    "print('----- small_LR2 -----')\n",
    "print(grid13.best_params_)\n",
    "print('----- small_KR2 -----')\n",
    "print(grid14.best_params_)\n",
    "print('----- small_BR2 -----')\n",
    "print(grid15.best_params_)"
   ]
  },
  {
   "cell_type": "code",
   "execution_count": null,
   "metadata": {},
   "outputs": [],
   "source": [
    "def rf(df):\n",
    "    \n",
    "    X_train, X_test, y_train, y_test = train_test(df)\n",
    "    \n",
    "\n",
    "    max_features = ['sqrt', 'auto']\n",
    "    max_depth = [int(x) for x in np.logspace(start = np.log10(10), stop = np.log10(60), num = 10)]\n",
    "\n",
    "\n",
    "    params = {'max_features': max_features,\n",
    "              'max_depth': max_depth}\n",
    "    \n",
    "\n",
    "    scorers = {'RMSE': make_scorer(rmse, greater_is_better=False),\n",
    "               'MAE': make_scorer(mean_absolute_error, greater_is_better=False)}\n",
    "\n",
    "    cv = RepeatedKFold(n_splits=10, n_repeats=10)\n",
    "        \n",
    "    grid = GridSearchCV(estimator=RandomForestRegressor(random_state = random.seed(42),\n",
    "                                                        n_estimators = 1000, \n",
    "                                                        min_samples_split = 2,\n",
    "                                                        min_samples_leaf = 1,\n",
    "                                                        bootstrap = False),\n",
    "                        param_grid=params, \n",
    "                        verbose=1, \n",
    "                        cv=cv, \n",
    "                        n_jobs =-1, \n",
    "                        scoring=scorers, \n",
    "                        refit = 'RMSE')\n",
    "    \n",
    "    grid = grid.fit(X_train, y_train)\n",
    "    \n",
    "    y_pred = grid.predict(X_test)\n",
    "    \n",
    "    print('Parameters used:', grid.best_params_,'\\n')\n",
    "    print('Cross Validation:')\n",
    "    print('RMSE Score:', round(-1*grid.best_score_,4))\n",
    "    print('MAE Score:',round(grid.cv_results_['mean_test_MAE'][grid.cv_results_['rank_test_MAE'] == 1].item(0)*-1,4))\n",
    "    print ('\\nHoldout set:')\n",
    "    print('RMSE Score:',round(-1*grid.score(X_test, y_test),4))\n",
    "    print('MAE Score:',round(mean_absolute_error(y_pred, y_test),4))  \n",
    "    \n",
    "    feature_list = list(X_train.columns)\n",
    "    importances = list(grid.best_estimator_.feature_importances_)\n",
    "    feature_importances = [(feature, round(importance, 3)) for feature, importance in zip(feature_list, importances)]\n",
    "    feature_importances = sorted(feature_importances, key = lambda x: x[1], reverse = True)\n",
    "    [print('{:18}{}'.format(*pair)) for pair in feature_importances[0:10]];\n",
    "    ranked_features, values = zip(*feature_importances)\n",
    "\n",
    "    plt.figure(figsize=(15,5))\n",
    "    x_values = list(range(len((importances))))\n",
    "    plt.bar(x_values, values, orientation = 'vertical')\n",
    "    plt.xticks(x_values, ranked_features, rotation=90, size=12)\n",
    "    plt.ylabel('Feature Importance (proportion)', size=15)\n",
    "    plt.xlabel('')\n",
    "    plt.title('Feature Importance')\n",
    "    plt.show();\n",
    "\n",
    "    # Extract a tree\n",
    "    tree = grid.best_estimator_.estimators_[4]\n",
    "    # Save the tree as a png image\n",
    "    export_graphviz(tree, out_file = 'tree.dot', feature_names = feature_list, class_names = y_test.name, rounded = True, proportion = False, precision = 1, filled = True)\n",
    "    (graph, ) = pydot.graph_from_dot_file('C:/Users/Tom/Documents/Course/Semester 3/Project/Data Sets/tree.dot')\n",
    "    graph.write_jpeg('tree.jpeg');\n",
    "    display(Image(filename = 'tree.jpeg', width=600, unconfined=True))"
   ]
  },
  {
   "cell_type": "code",
   "execution_count": null,
   "metadata": {
    "scrolled": false
   },
   "outputs": [],
   "source": [
    "grid.best_params_"
   ]
  },
  {
   "cell_type": "code",
   "execution_count": null,
   "metadata": {
    "scrolled": false
   },
   "outputs": [],
   "source": [
    "rf(H1)"
   ]
  },
  {
   "cell_type": "code",
   "execution_count": null,
   "metadata": {
    "scrolled": false
   },
   "outputs": [],
   "source": [
    "rf(H2)"
   ]
  },
  {
   "cell_type": "code",
   "execution_count": null,
   "metadata": {
    "scrolled": false
   },
   "outputs": [],
   "source": [
    "rf(H)"
   ]
  },
  {
   "cell_type": "code",
   "execution_count": null,
   "metadata": {
    "scrolled": true
   },
   "outputs": [],
   "source": [
    "rf(LR1)"
   ]
  },
  {
   "cell_type": "code",
   "execution_count": null,
   "metadata": {
    "scrolled": true
   },
   "outputs": [],
   "source": [
    "rf(BR1)"
   ]
  },
  {
   "cell_type": "code",
   "execution_count": null,
   "metadata": {
    "scrolled": true
   },
   "outputs": [],
   "source": [
    "rf(LR2)"
   ]
  },
  {
   "cell_type": "code",
   "execution_count": null,
   "metadata": {
    "scrolled": true
   },
   "outputs": [],
   "source": [
    "rf(KR2)"
   ]
  },
  {
   "cell_type": "code",
   "execution_count": null,
   "metadata": {
    "scrolled": true
   },
   "outputs": [],
   "source": [
    "rf(BR2)"
   ]
  },
  {
   "cell_type": "code",
   "execution_count": null,
   "metadata": {},
   "outputs": [],
   "source": [
    "rf(small_LR1)"
   ]
  },
  {
   "cell_type": "code",
   "execution_count": null,
   "metadata": {
    "scrolled": true
   },
   "outputs": [],
   "source": [
    "rf(small_KR1)"
   ]
  },
  {
   "cell_type": "code",
   "execution_count": null,
   "metadata": {
    "scrolled": true
   },
   "outputs": [],
   "source": [
    "rf(small_BR1)"
   ]
  },
  {
   "cell_type": "code",
   "execution_count": null,
   "metadata": {
    "scrolled": true
   },
   "outputs": [],
   "source": [
    "rf(small_LR2)"
   ]
  },
  {
   "cell_type": "code",
   "execution_count": null,
   "metadata": {
    "scrolled": true
   },
   "outputs": [],
   "source": [
    "rf(small_KR2)"
   ]
  },
  {
   "cell_type": "code",
   "execution_count": null,
   "metadata": {
    "scrolled": true
   },
   "outputs": [],
   "source": [
    "rf(small_BR2)"
   ]
  },
  {
   "cell_type": "markdown",
   "metadata": {},
   "source": [
    "# Support Vector Machines - Regression"
   ]
  },
  {
   "cell_type": "code",
   "execution_count": null,
   "metadata": {},
   "outputs": [],
   "source": [
    "def find_svr_params(df):\n",
    "\n",
    "    X_train, X_test, y_train, y_test = train_test(df)\n",
    "    \n",
    "    sc = StandardScaler()\n",
    "    X_train = sc.fit_transform(X_train)\n",
    "    X_test = sc.transform (X_test) \n",
    "\n",
    "    C = np.logspace(np.log10(0.001), np.log10(10000), num=50)\n",
    "    epsilon = np.logspace(np.log10(0.0001), np.log10(100), num=50)\n",
    "\n",
    "\n",
    "    random_grid = {'C': C,\n",
    "                   'epsilon': epsilon,}\n",
    "    \n",
    "    cv = RepeatedKFold(n_splits=10, n_repeats=10)    \n",
    "    \n",
    "    rf_random = RandomizedSearchCV(estimator = SVR(kernel='rbf', gamma='scale'), \n",
    "                                   param_distributions = random_grid, \n",
    "                                   n_iter = 1000, \n",
    "                                   cv = cv, \n",
    "                                   verbose=1, \n",
    "                                   random_state=random.seed(42), \n",
    "                                   n_jobs = -1,\n",
    "                                   scoring=make_scorer(rmse, greater_is_better=False))    \n",
    "    \n",
    "    rf_random.fit(X_train, y_train)\n",
    "    \n",
    "    return rf_random.best_params_"
   ]
  },
  {
   "cell_type": "code",
   "execution_count": null,
   "metadata": {},
   "outputs": [],
   "source": [
    "find_svr_params(H1)"
   ]
  },
  {
   "cell_type": "code",
   "execution_count": null,
   "metadata": {},
   "outputs": [],
   "source": [
    "svrgrid1 = find_svr_params(H1)\n",
    "svrgrid2 = find_svr_params(H2)\n",
    "svrgrid3 = find_svr_params(H)\n",
    "\n",
    "svrgrid4 = find_svr_params(LR1)\n",
    "svrgrid5 = find_svr_params(KR1)\n",
    "svrgrid6 = find_svr_params(BR1)\n",
    "svrgrid7 = find_svr_params(LR2)\n",
    "svrgrid8 = find_svr_params(KR2)\n",
    "svrgrid9 = find_svr_params(BR2)\n",
    "\n",
    "svrgrid10 = find_svr_params(small_LR1)\n",
    "svrgrid11 = find_svr_params(small_KR1)\n",
    "grid12 = find_svr_params(small_BR1)\n",
    "svrgrid13 = find_svr_params(small_LR2)\n",
    "svrgrid14 = find_svr_params(small_KR2)\n",
    "svrgrid15 = find_svr_params(small_BR2)"
   ]
  },
  {
   "cell_type": "code",
   "execution_count": null,
   "metadata": {},
   "outputs": [],
   "source": [
    "print('----- H1 -----')\n",
    "print(SVRgrid1)\n",
    "\n",
    "print('----- H2 -----')\n",
    "print(SVRgrid2)\n",
    "\n",
    "print('----- H -----')\n",
    "print(SVRgrid3)\n",
    "\n",
    "print('----- LR1 -----')\n",
    "print(SVRgrid4)\n",
    "\n",
    "print('----- KR1 -----')\n",
    "print(SVRgrid5)\n",
    "\n",
    "print('----- BR1 -----')\n",
    "print(SVRgrid6)\n",
    "\n",
    "print('----- LR2 -----')\n",
    "print(SVRgrid7)\n",
    "\n",
    "print('----- KR2 -----')\n",
    "print(SVRgrid8)\n",
    "\n",
    "print('----- BR2 -----')\n",
    "print(SVRgrid9)\n",
    "\n",
    "print('----- small_LR1 -----')\n",
    "print(SVRgrid10)\n",
    "\n",
    "print('----- small_KR1 -----')\n",
    "print(SVRgrid11)\n",
    "\n",
    "print('----- small_BR1 -----')\n",
    "print(SVRgrid12)\n",
    "\n",
    "print('----- small_LR2 -----')\n",
    "print(SVRgrid13)\n",
    "\n",
    "print('----- small_KR2 -----')\n",
    "print(SVRgrid14)\n",
    "\n",
    "print('----- small_BR2 -----')\n",
    "print(SVRgrid15)\n"
   ]
  },
  {
   "cell_type": "code",
   "execution_count": null,
   "metadata": {},
   "outputs": [],
   "source": [
    "def svr(df):\n",
    "\n",
    "    X_train, X_test, y_train, y_test = train_test(df)\n",
    "    \n",
    "    sc = StandardScaler()\n",
    "    X_train = sc.fit_transform(X_train)\n",
    "    X_test = sc.transform (X_test) \n",
    "    \n",
    "    C = np.logspace(np.log10(0.001), np.log10(10000), num=20)\n",
    "    epsilon = np.logspace(np.log10(0.0001), np.log10(100), num=20)\n",
    "\n",
    "\n",
    "    params = {#'C': C,\n",
    "                   'epsilon': epsilon,}    \n",
    "    \n",
    "\n",
    "    scorers = {'RMSE': make_scorer(rmse, greater_is_better=False),\n",
    "               'MAE': make_scorer(mean_absolute_error, greater_is_better=False)}\n",
    "    \n",
    "    cv = RepeatedKFold(n_splits=10, n_repeats=10)\n",
    "    random.seed(42)\n",
    "    grid = GridSearchCV(estimator=SVR(kernel='rbf',  gamma='scale', C=784.7599703514607),\n",
    "                        param_grid=params, \n",
    "                        verbose=1, \n",
    "                        cv=cv, \n",
    "                        n_jobs =-1,\n",
    "                        scoring=scorers,\n",
    "                        refit='RMSE')\n",
    "    \n",
    "    grid = grid.fit(X_train, y_train)\n",
    "    \n",
    "    y_pred = grid.predict(X_test)\n",
    "    \n",
    "    print('Parameters used:', grid.best_params_,'\\n')\n",
    "    print('Cross Validation:')\n",
    "    print('RMSE Score:', round(-1*grid.best_score_,4))\n",
    "    print('MAE Score:',round(grid.cv_results_['mean_test_MAE'][grid.cv_results_['rank_test_MAE'] == 1].item(0)*-1,4))\n",
    "    print ('\\nHoldout set:')\n",
    "    print('RMSE Score:',round(-1*grid.score(X_test, y_test),4))\n",
    "    print('MAE Score:',round(mean_absolute_error(y_pred, y_test),4))  "
   ]
  },
  {
   "cell_type": "code",
   "execution_count": null,
   "metadata": {},
   "outputs": [],
   "source": [
    "svr(H1)"
   ]
  },
  {
   "cell_type": "code",
   "execution_count": null,
   "metadata": {},
   "outputs": [],
   "source": [
    "svr(H2)"
   ]
  },
  {
   "cell_type": "code",
   "execution_count": null,
   "metadata": {},
   "outputs": [],
   "source": [
    "svr(H)"
   ]
  },
  {
   "cell_type": "code",
   "execution_count": null,
   "metadata": {},
   "outputs": [],
   "source": [
    "svr(LR1)"
   ]
  },
  {
   "cell_type": "code",
   "execution_count": null,
   "metadata": {},
   "outputs": [],
   "source": [
    "svr(KR1)"
   ]
  },
  {
   "cell_type": "code",
   "execution_count": null,
   "metadata": {},
   "outputs": [],
   "source": [
    "svr(BR1)"
   ]
  },
  {
   "cell_type": "code",
   "execution_count": null,
   "metadata": {},
   "outputs": [],
   "source": [
    "svr(LR2)"
   ]
  },
  {
   "cell_type": "code",
   "execution_count": null,
   "metadata": {},
   "outputs": [],
   "source": [
    "svr(KR2)"
   ]
  },
  {
   "cell_type": "code",
   "execution_count": null,
   "metadata": {},
   "outputs": [],
   "source": [
    "svr(BR2)"
   ]
  },
  {
   "cell_type": "code",
   "execution_count": null,
   "metadata": {},
   "outputs": [],
   "source": [
    "svr(small_LR1)"
   ]
  },
  {
   "cell_type": "code",
   "execution_count": null,
   "metadata": {},
   "outputs": [],
   "source": [
    "svr(small_KR1)"
   ]
  },
  {
   "cell_type": "code",
   "execution_count": null,
   "metadata": {},
   "outputs": [],
   "source": [
    "svr(small_BR1)"
   ]
  },
  {
   "cell_type": "code",
   "execution_count": null,
   "metadata": {
    "scrolled": true
   },
   "outputs": [],
   "source": [
    "svr(small_LR2)"
   ]
  },
  {
   "cell_type": "code",
   "execution_count": null,
   "metadata": {},
   "outputs": [],
   "source": [
    "svr(small_KR2)"
   ]
  },
  {
   "cell_type": "code",
   "execution_count": null,
   "metadata": {},
   "outputs": [],
   "source": [
    "svr(small_BR2)"
   ]
  },
  {
   "cell_type": "markdown",
   "metadata": {},
   "source": [
    "# Neural Networks"
   ]
  },
  {
   "cell_type": "code",
   "execution_count": null,
   "metadata": {},
   "outputs": [],
   "source": [
    "def find_ann_params(df):\n",
    "\n",
    "    X_train, X_test, y_train, y_test = train_test(df)\n",
    "    \n",
    "    sc = StandardScaler()\n",
    "    X_train = sc.fit_transform(X_train)\n",
    "    X_test = sc.transform (X_test) \n",
    "\n",
    "    #hidden_layer_sizes = \n",
    "    activation = ['identity', 'logistic', 'tanh', 'relu']\n",
    "    batch_size = [int(x) for x in np.logspace(start = np.log10(10), stop = np.log10(df.shape[0]), num = 100)]\n",
    "    learning_rate = ['constant','invscaling', 'adaptive']\n",
    "    learning_rate_init = np.logspace(np.log10(0.0001), np.log10(0.1), num=100)\n",
    "    momentum = np.logspace(np.log10(0.01), np.log10(1), num=100)\n",
    "    \n",
    "    \n",
    "    scorers = {'RMSE': make_scorer(rmse, greater_is_better=False)}\n",
    "\n",
    "    random_grid = {'activation': activation,\n",
    "                   'batch_size' : batch_size,\n",
    "                   'learning_rate' : learning_rate,\n",
    "                   'learning_rate_init' : learning_rate_init,\n",
    "                   'momentum' : momentum\n",
    "                  }\n",
    "      \n",
    "    ann_random = RandomizedSearchCV(estimator = MLPRegressor(solver = 'adam'), \n",
    "                                   param_distributions = random_grid, \n",
    "                                   n_iter = 100, \n",
    "                                   cv = 10, \n",
    "                                   verbose=1, \n",
    "                                   n_jobs = -1,\n",
    "                                   refit = make_scorer(rmse, greater_is_better=False))    \n",
    "    \n",
    "    ann_random.fit(X_train, y_train)\n",
    "    \n",
    "    return ann_random.best_params_"
   ]
  },
  {
   "cell_type": "code",
   "execution_count": null,
   "metadata": {
    "scrolled": false
   },
   "outputs": [],
   "source": [
    "ANNgrid1 = find_ann_params(H1)\n",
    "ANNgrid2 = find_ann_params(H2)\n",
    "ANNgrid3 = find_ann_params(H)\n",
    "ANNgrid4 = find_ann_params(LR1)\n",
    "ANNgrid5 = find_ann_params(KR1)\n",
    "ANNgrid6 = find_ann_params(BR1)\n",
    "ANNgrid7 = find_ann_params(LR2)\n",
    "ANNgrid8 = find_ann_params(KR2)\n",
    "ANNgrid9 = find_ann_params(BR2)\n",
    "ANNgrid10 = find_ann_params(small_LR1)\n",
    "ANNgrid11 = find_ann_params(small_KR1)\n",
    "ANNgrid12 = find_ann_params(small_BR1)\n",
    "ANNgrid13 = find_ann_params(small_LR2)\n",
    "ANNgrid14 = find_ann_params(small_KR2)\n",
    "ANNgrid15 = find_ann_params(small_BR2)"
   ]
  },
  {
   "cell_type": "code",
   "execution_count": null,
   "metadata": {
    "scrolled": false
   },
   "outputs": [],
   "source": [
    "print('----- H1 -----')\n",
    "print(ANNgrid1)\n",
    "print('----- H2 -----')\n",
    "print(ANNgrid2)\n",
    "print('----- H -----')\n",
    "print(ANNgrid3)\n",
    "print('----- LR1 -----')\n",
    "print(ANNgrid4)\n",
    "print('----- KR1 -----')\n",
    "print(ANNgrid5)\n",
    "print('----- BR1 -----')\n",
    "print(ANNgrid6)\n",
    "print('----- LR2 -----')\n",
    "print(ANNgrid7)\n",
    "print('----- KR2 -----')\n",
    "print(ANNgrid8)\n",
    "print('----- BR2 -----')\n",
    "print(ANNgrid9)\n",
    "print('----- small_LR1 -----')\n",
    "print(ANNgrid10)\n",
    "print('----- small_KR1 -----')\n",
    "print(ANNgrid11)\n",
    "print('----- small_BR1 -----')\n",
    "print(ANNgrid12)\n",
    "print('----- small_LR2 -----')\n",
    "print(ANNgrid13)\n",
    "print('----- small_KR2 -----')\n",
    "print(ANNgrid14)\n",
    "print('----- small_BR2 -----')\n",
    "print(ANNgrid15)"
   ]
  },
  {
   "cell_type": "code",
   "execution_count": null,
   "metadata": {},
   "outputs": [],
   "source": [
    "def ann(df):\n",
    "\n",
    "    X_train, X_test, y_train, y_test = train_test(df)\n",
    "    \n",
    "    sc = StandardScaler()\n",
    "    X_train = sc.fit_transform(X_train)\n",
    "    X_test = sc.transform (X_test) \n",
    "\n",
    "   #hidden_layer_sizes = \n",
    "    activation = ['tanh', 'relu']\n",
    "    batch_size = [10, 50, 100]\n",
    "    learning_rate = ['constant','invscaling', 'adaptive']\n",
    "    learning_rate_init = [0.0001, 0.001, 0.01]\n",
    "    momentum = [0.3, 0.6, 0.9]\n",
    "\n",
    "    params = {'activation': activation,\n",
    "              'batch_size' : batch_size,\n",
    "              'learning_rate' : learning_rate,\n",
    "              'learning_rate_init' : learning_rate_init,\n",
    "              'momentum' : momentum}    \n",
    "\n",
    "\n",
    "    scorers = {'RMSE': make_scorer(rmse, greater_is_better=False),\n",
    "               'MAE': make_scorer(mean_absolute_error, greater_is_better=False)}\n",
    "\n",
    "    \n",
    "    cv = RepeatedKFold(n_splits=10, n_repeats=10)\n",
    "    \n",
    "    random.seed(42)\n",
    "    grid = GridSearchCV(estimator=MLPRegressor(solver='adam'),\n",
    "                              param_grid=params, \n",
    "                              verbose=1, \n",
    "                              cv=cv, \n",
    "                              n_jobs =-1, \n",
    "                              scoring=scorers, \n",
    "                              refit = 'RMSE')\n",
    "    \n",
    "    grid = grid.fit(X_train, y_train)\n",
    "    \n",
    "    y_pred = grid.predict(X_test)\n",
    "    \n",
    "    print('Parameters used:', grid.best_params_,'\\n')\n",
    "    print('Cross Validation:')\n",
    "    print('RMSE Score:', round(-1*grid.best_score_,4))\n",
    "    print('MAE Score:',round(grid.cv_results_['mean_test_MAE'][grid.cv_results_['rank_test_MAE'] == 1].item(0)*-1,4))\n",
    "    print ('\\nHoldout set:')\n",
    "    print('RMSE Score:',round(-1*grid.score(X_test, y_test),4))\n",
    "    print('MAE Score:',round(mean_absolute_error(y_pred, y_test),4))"
   ]
  },
  {
   "cell_type": "code",
   "execution_count": null,
   "metadata": {},
   "outputs": [],
   "source": [
    "ann(H1)"
   ]
  },
  {
   "cell_type": "code",
   "execution_count": null,
   "metadata": {},
   "outputs": [],
   "source": [
    "ann(H2)"
   ]
  },
  {
   "cell_type": "code",
   "execution_count": null,
   "metadata": {},
   "outputs": [],
   "source": [
    "ann(H)"
   ]
  },
  {
   "cell_type": "code",
   "execution_count": null,
   "metadata": {},
   "outputs": [],
   "source": [
    "ann(LR1)"
   ]
  },
  {
   "cell_type": "code",
   "execution_count": null,
   "metadata": {},
   "outputs": [],
   "source": [
    "ann(KR1)"
   ]
  },
  {
   "cell_type": "code",
   "execution_count": null,
   "metadata": {},
   "outputs": [],
   "source": [
    "ann(BR1)"
   ]
  },
  {
   "cell_type": "code",
   "execution_count": null,
   "metadata": {},
   "outputs": [],
   "source": [
    "ann(LR2)"
   ]
  },
  {
   "cell_type": "code",
   "execution_count": null,
   "metadata": {},
   "outputs": [],
   "source": [
    "ann(KR2)"
   ]
  },
  {
   "cell_type": "code",
   "execution_count": null,
   "metadata": {},
   "outputs": [],
   "source": [
    "ann(BR2)"
   ]
  },
  {
   "cell_type": "code",
   "execution_count": null,
   "metadata": {},
   "outputs": [],
   "source": [
    "ann(small_LR1)"
   ]
  },
  {
   "cell_type": "code",
   "execution_count": null,
   "metadata": {},
   "outputs": [],
   "source": [
    "ann(small_KR1)"
   ]
  },
  {
   "cell_type": "code",
   "execution_count": null,
   "metadata": {},
   "outputs": [],
   "source": [
    "ann(small_BR1)"
   ]
  },
  {
   "cell_type": "code",
   "execution_count": null,
   "metadata": {},
   "outputs": [],
   "source": [
    "ann(small_LR2)"
   ]
  },
  {
   "cell_type": "code",
   "execution_count": null,
   "metadata": {},
   "outputs": [],
   "source": [
    "ann(small_KR2)"
   ]
  },
  {
   "cell_type": "code",
   "execution_count": null,
   "metadata": {},
   "outputs": [],
   "source": [
    "ann(small_BR2)"
   ]
  },
  {
   "cell_type": "code",
   "execution_count": null,
   "metadata": {},
   "outputs": [],
   "source": [
    "H1_baseline_score = 8.4469\n",
    "H1_rf_h_score = 6.9164\n",
    "H1_svr_h_score = 7.0482\n",
    "H1_nn_h_score = 6.9748\n",
    "\n",
    "H2_baseline_score = 7.8965\n",
    "H2_rf_h_score = 5.7952\n",
    "H2_svr_h_score = 5.1928\n",
    "H2_nn_h_score = 6.3536\n",
    "\n",
    "H_baseline_score = 9.8437\n",
    "H_rf_h_score = 9.6758\n",
    "H_svr_h_score = 11.481\n",
    "H_nn_h_score = 12.3553\n",
    "\n",
    "\n",
    "\n",
    "scores = {'Baseline':[H1_baseline_score, H2_baseline_score, H_baseline_score], \n",
    "          'Random Forest':[H1_rf_h_score, H2_rf_h_score, H_rf_h_score],\n",
    "         'Support Vector Regression': [H1_svr_h_score, H2_svr_h_score, H_svr_h_score],\n",
    "         'Neural Network': [H1_nn_h_score, H2_nn_h_score, H_nn_h_score]} \n",
    "  \n",
    "# Creates pandas DataFrame. \n",
    "score_df = pd.DataFrame(scores, index =['House 1', 'House 2', 'Houses']) "
   ]
  },
  {
   "cell_type": "markdown",
   "metadata": {},
   "source": [
    "ax = score_df[['Baseline', 'Random Forest', 'Support Vector Regression', 'Neural Network']].plot(kind='bar',\n",
    "              figsize=(15,7), color=['cadetblue', 'forestgreen', 'dodgerblue', 'rebeccapurple'], fontsize=13);\n",
    "ax.legend(loc = 2, prop={'size': 15})\n",
    "ax.set_alpha(0.8)\n",
    "ax.set_title(\"Test score\",\n",
    "fontsize=18)\n",
    "ax.set_ylabel(\"RMSE (lower is better)\", fontsize=15, fontweight='bold');\n",
    "ax.set_xticklabels(score_df.index,rotation=0, fontsize=15, fontweight='bold')\n",
    "ax.set_ylim([0, 13])\n",
    "\n",
    "for i in ax.patches:\n",
    "    # get_x pulls left or right; get_height pushes up or down\n",
    "    ax.text(i.get_x()+0.015, i.get_height()+0.1, \\\n",
    "            str(round((i.get_height()), 2)), fontsize=12, color='black',\n",
    "                rotation=0, fontweight='bold')\n",
    "    \n",
    "    \n",
    "\n",
    "\n"
   ]
  },
  {
   "cell_type": "code",
   "execution_count": null,
   "metadata": {},
   "outputs": [],
   "source": [
    "H1_baseline_cv_score = 6.6862\n",
    "H1_rf_cv_score = 5.9731\n",
    "H1_svr_cv_score = 5.9725\n",
    "H1_nn_cv_score = 6.4114\n",
    "\n",
    "H2_baseline_cv_score = 10.3454\n",
    "H2_rf_cv_score = 8.489\n",
    "H2_svr_cv_score = 10.0091\n",
    "H2_nn_cv_score = 9.8298\n",
    "\n",
    "H_baseline_cv_score = 8.439\n",
    "H_rf_cv_score = 7.7593\n",
    "H_svr_cv_score = 8.8523\n",
    "H_nn_cv_score = 9.5298\n",
    "\n",
    "\n",
    "\n",
    "cv_scores = {'Baseline':[H1_baseline_cv_score, H2_baseline_cv_score, H_baseline_cv_score], \n",
    "          'Random Forest':[H1_rf_cv_score, H2_rf_cv_score, H_rf_cv_score],\n",
    "         'Support Vector Regression': [H1_svr_cv_score, H2_svr_cv_score, H_svr_cv_score],\n",
    "         'Neural Network': [H1_nn_cv_score, H2_nn_cv_score, H_nn_cv_score]} \n",
    "  \n",
    "# Creates pandas DataFrame. \n",
    "scorecv_df = pd.DataFrame(cv_scores, index =['House 1', 'House 2', 'Houses']) "
   ]
  },
  {
   "cell_type": "code",
   "execution_count": null,
   "metadata": {},
   "outputs": [],
   "source": [
    "ax = scorecv_df[['Baseline', 'Random Forest', 'Support Vector Regression', 'Neural Network']].plot(kind='bar',\n",
    "              figsize=(15,7), color=['cadetblue', 'forestgreen', 'dodgerblue', 'rebeccapurple'], fontsize=13);\n",
    "ax.legend(loc = 2, prop={'size': 15})\n",
    "ax.set_alpha(0.8)\n",
    "ax.set_title(\"Cross-validation score\",\n",
    "fontsize=18)\n",
    "ax.set_ylabel(\"RMSE (lower is better)\", fontsize=15, fontweight='bold');\n",
    "ax.set_xticklabels(score_df.index,rotation=0, fontsize=15, fontweight='bold')\n",
    "ax.set_ylim([0, 15])\n",
    "\n",
    "for i in ax.patches:\n",
    "    # get_x pulls left or right; get_height pushes up or down\n",
    "    ax.text(i.get_x()+0.015, i.get_height()+0.1, \\\n",
    "            str(round((i.get_height()), 2)), fontsize=12, color='black',\n",
    "                rotation=0, fontweight='bold')\n",
    "    "
   ]
  }
 ],
 "metadata": {
  "kernelspec": {
   "display_name": "Python 3",
   "language": "python",
   "name": "python3"
  },
  "language_info": {
   "codemirror_mode": {
    "name": "ipython",
    "version": 3
   },
   "file_extension": ".py",
   "mimetype": "text/x-python",
   "name": "python",
   "nbconvert_exporter": "python",
   "pygments_lexer": "ipython3",
   "version": "3.7.2"
  }
 },
 "nbformat": 4,
 "nbformat_minor": 2
}
